{
 "cells": [
  {
   "cell_type": "markdown",
   "id": "75861a19",
   "metadata": {},
   "source": [
    "# SMU MSDS Capstone Project\n",
    "\n",
    "## COVID analysis using Chest X-ray"
   ]
  },
  {
   "cell_type": "code",
   "execution_count": 1,
   "id": "d5fe2228",
   "metadata": {},
   "outputs": [],
   "source": [
    "#import reuqired libraries\n",
    "import pandas as pd\n",
    "import numpy as np\n",
    "import matplotlib.pyplot as plt\n",
    "import seaborn as sns"
   ]
  },
  {
   "cell_type": "code",
   "execution_count": 2,
   "id": "5392a044",
   "metadata": {},
   "outputs": [
    {
     "data": {
      "text/html": [
       "<div>\n",
       "<style scoped>\n",
       "    .dataframe tbody tr th:only-of-type {\n",
       "        vertical-align: middle;\n",
       "    }\n",
       "\n",
       "    .dataframe tbody tr th {\n",
       "        vertical-align: top;\n",
       "    }\n",
       "\n",
       "    .dataframe thead th {\n",
       "        text-align: right;\n",
       "    }\n",
       "</style>\n",
       "<table border=\"1\" class=\"dataframe\">\n",
       "  <thead>\n",
       "    <tr style=\"text-align: right;\">\n",
       "      <th></th>\n",
       "      <th>patientid</th>\n",
       "      <th>offset</th>\n",
       "      <th>sex</th>\n",
       "      <th>age</th>\n",
       "      <th>finding</th>\n",
       "      <th>RT_PCR_positive</th>\n",
       "      <th>survival</th>\n",
       "      <th>intubated</th>\n",
       "      <th>intubation_present</th>\n",
       "      <th>went_icu</th>\n",
       "      <th>...</th>\n",
       "      <th>date</th>\n",
       "      <th>location</th>\n",
       "      <th>folder</th>\n",
       "      <th>filename</th>\n",
       "      <th>doi</th>\n",
       "      <th>url</th>\n",
       "      <th>license</th>\n",
       "      <th>clinical_notes</th>\n",
       "      <th>other_notes</th>\n",
       "      <th>Unnamed: 29</th>\n",
       "    </tr>\n",
       "  </thead>\n",
       "  <tbody>\n",
       "    <tr>\n",
       "      <th>0</th>\n",
       "      <td>2</td>\n",
       "      <td>0.0</td>\n",
       "      <td>M</td>\n",
       "      <td>65.0</td>\n",
       "      <td>Pneumonia/Viral/COVID-19</td>\n",
       "      <td>Y</td>\n",
       "      <td>Y</td>\n",
       "      <td>N</td>\n",
       "      <td>N</td>\n",
       "      <td>N</td>\n",
       "      <td>...</td>\n",
       "      <td>January 22, 2020</td>\n",
       "      <td>Cho Ray Hospital, Ho Chi Minh City, Vietnam</td>\n",
       "      <td>images</td>\n",
       "      <td>auntminnie-a-2020_01_28_23_51_6665_2020_01_28_...</td>\n",
       "      <td>10.1056/nejmc2001272</td>\n",
       "      <td>https://www.nejm.org/doi/full/10.1056/NEJMc200...</td>\n",
       "      <td>NaN</td>\n",
       "      <td>On January 22, 2020, a 65-year-old man with a ...</td>\n",
       "      <td>NaN</td>\n",
       "      <td>NaN</td>\n",
       "    </tr>\n",
       "    <tr>\n",
       "      <th>1</th>\n",
       "      <td>2</td>\n",
       "      <td>3.0</td>\n",
       "      <td>M</td>\n",
       "      <td>65.0</td>\n",
       "      <td>Pneumonia/Viral/COVID-19</td>\n",
       "      <td>Y</td>\n",
       "      <td>Y</td>\n",
       "      <td>N</td>\n",
       "      <td>N</td>\n",
       "      <td>N</td>\n",
       "      <td>...</td>\n",
       "      <td>January 25, 2020</td>\n",
       "      <td>Cho Ray Hospital, Ho Chi Minh City, Vietnam</td>\n",
       "      <td>images</td>\n",
       "      <td>auntminnie-b-2020_01_28_23_51_6665_2020_01_28_...</td>\n",
       "      <td>10.1056/nejmc2001272</td>\n",
       "      <td>https://www.nejm.org/doi/full/10.1056/NEJMc200...</td>\n",
       "      <td>NaN</td>\n",
       "      <td>On January 22, 2020, a 65-year-old man with a ...</td>\n",
       "      <td>NaN</td>\n",
       "      <td>NaN</td>\n",
       "    </tr>\n",
       "    <tr>\n",
       "      <th>2</th>\n",
       "      <td>2</td>\n",
       "      <td>5.0</td>\n",
       "      <td>M</td>\n",
       "      <td>65.0</td>\n",
       "      <td>Pneumonia/Viral/COVID-19</td>\n",
       "      <td>Y</td>\n",
       "      <td>Y</td>\n",
       "      <td>N</td>\n",
       "      <td>N</td>\n",
       "      <td>N</td>\n",
       "      <td>...</td>\n",
       "      <td>January 27, 2020</td>\n",
       "      <td>Cho Ray Hospital, Ho Chi Minh City, Vietnam</td>\n",
       "      <td>images</td>\n",
       "      <td>auntminnie-c-2020_01_28_23_51_6665_2020_01_28_...</td>\n",
       "      <td>10.1056/nejmc2001272</td>\n",
       "      <td>https://www.nejm.org/doi/full/10.1056/NEJMc200...</td>\n",
       "      <td>NaN</td>\n",
       "      <td>On January 22, 2020, a 65-year-old man with a ...</td>\n",
       "      <td>NaN</td>\n",
       "      <td>NaN</td>\n",
       "    </tr>\n",
       "    <tr>\n",
       "      <th>3</th>\n",
       "      <td>2</td>\n",
       "      <td>6.0</td>\n",
       "      <td>M</td>\n",
       "      <td>65.0</td>\n",
       "      <td>Pneumonia/Viral/COVID-19</td>\n",
       "      <td>Y</td>\n",
       "      <td>Y</td>\n",
       "      <td>N</td>\n",
       "      <td>N</td>\n",
       "      <td>N</td>\n",
       "      <td>...</td>\n",
       "      <td>January 28, 2020</td>\n",
       "      <td>Cho Ray Hospital, Ho Chi Minh City, Vietnam</td>\n",
       "      <td>images</td>\n",
       "      <td>auntminnie-d-2020_01_28_23_51_6665_2020_01_28_...</td>\n",
       "      <td>10.1056/nejmc2001272</td>\n",
       "      <td>https://www.nejm.org/doi/full/10.1056/NEJMc200...</td>\n",
       "      <td>NaN</td>\n",
       "      <td>On January 22, 2020, a 65-year-old man with a ...</td>\n",
       "      <td>NaN</td>\n",
       "      <td>NaN</td>\n",
       "    </tr>\n",
       "    <tr>\n",
       "      <th>4</th>\n",
       "      <td>4</td>\n",
       "      <td>0.0</td>\n",
       "      <td>F</td>\n",
       "      <td>52.0</td>\n",
       "      <td>Pneumonia/Viral/COVID-19</td>\n",
       "      <td>Y</td>\n",
       "      <td>NaN</td>\n",
       "      <td>N</td>\n",
       "      <td>N</td>\n",
       "      <td>N</td>\n",
       "      <td>...</td>\n",
       "      <td>January 25, 2020</td>\n",
       "      <td>Changhua Christian Hospital, Changhua City, Ta...</td>\n",
       "      <td>images</td>\n",
       "      <td>nejmc2001573_f1a.jpeg</td>\n",
       "      <td>10.1056/NEJMc2001573</td>\n",
       "      <td>https://www.nejm.org/doi/full/10.1056/NEJMc200...</td>\n",
       "      <td>NaN</td>\n",
       "      <td>diffuse infiltrates in the bilateral lower lungs</td>\n",
       "      <td>NaN</td>\n",
       "      <td>NaN</td>\n",
       "    </tr>\n",
       "  </tbody>\n",
       "</table>\n",
       "<p>5 rows × 30 columns</p>\n",
       "</div>"
      ],
      "text/plain": [
       "  patientid  offset sex   age                   finding RT_PCR_positive  \\\n",
       "0         2     0.0   M  65.0  Pneumonia/Viral/COVID-19               Y   \n",
       "1         2     3.0   M  65.0  Pneumonia/Viral/COVID-19               Y   \n",
       "2         2     5.0   M  65.0  Pneumonia/Viral/COVID-19               Y   \n",
       "3         2     6.0   M  65.0  Pneumonia/Viral/COVID-19               Y   \n",
       "4         4     0.0   F  52.0  Pneumonia/Viral/COVID-19               Y   \n",
       "\n",
       "  survival intubated intubation_present went_icu  ...              date  \\\n",
       "0        Y         N                  N        N  ...  January 22, 2020   \n",
       "1        Y         N                  N        N  ...  January 25, 2020   \n",
       "2        Y         N                  N        N  ...  January 27, 2020   \n",
       "3        Y         N                  N        N  ...  January 28, 2020   \n",
       "4      NaN         N                  N        N  ...  January 25, 2020   \n",
       "\n",
       "                                            location  folder  \\\n",
       "0        Cho Ray Hospital, Ho Chi Minh City, Vietnam  images   \n",
       "1        Cho Ray Hospital, Ho Chi Minh City, Vietnam  images   \n",
       "2        Cho Ray Hospital, Ho Chi Minh City, Vietnam  images   \n",
       "3        Cho Ray Hospital, Ho Chi Minh City, Vietnam  images   \n",
       "4  Changhua Christian Hospital, Changhua City, Ta...  images   \n",
       "\n",
       "                                            filename                   doi  \\\n",
       "0  auntminnie-a-2020_01_28_23_51_6665_2020_01_28_...  10.1056/nejmc2001272   \n",
       "1  auntminnie-b-2020_01_28_23_51_6665_2020_01_28_...  10.1056/nejmc2001272   \n",
       "2  auntminnie-c-2020_01_28_23_51_6665_2020_01_28_...  10.1056/nejmc2001272   \n",
       "3  auntminnie-d-2020_01_28_23_51_6665_2020_01_28_...  10.1056/nejmc2001272   \n",
       "4                              nejmc2001573_f1a.jpeg  10.1056/NEJMc2001573   \n",
       "\n",
       "                                                 url  license  \\\n",
       "0  https://www.nejm.org/doi/full/10.1056/NEJMc200...      NaN   \n",
       "1  https://www.nejm.org/doi/full/10.1056/NEJMc200...      NaN   \n",
       "2  https://www.nejm.org/doi/full/10.1056/NEJMc200...      NaN   \n",
       "3  https://www.nejm.org/doi/full/10.1056/NEJMc200...      NaN   \n",
       "4  https://www.nejm.org/doi/full/10.1056/NEJMc200...      NaN   \n",
       "\n",
       "                                      clinical_notes other_notes Unnamed: 29  \n",
       "0  On January 22, 2020, a 65-year-old man with a ...         NaN         NaN  \n",
       "1  On January 22, 2020, a 65-year-old man with a ...         NaN         NaN  \n",
       "2  On January 22, 2020, a 65-year-old man with a ...         NaN         NaN  \n",
       "3  On January 22, 2020, a 65-year-old man with a ...         NaN         NaN  \n",
       "4   diffuse infiltrates in the bilateral lower lungs         NaN         NaN  \n",
       "\n",
       "[5 rows x 30 columns]"
      ]
     },
     "execution_count": 2,
     "metadata": {},
     "output_type": "execute_result"
    }
   ],
   "source": [
    "data1=pd.read_csv('https://raw.githubusercontent.com/ieee8023/covid-chestxray-dataset/master/metadata.csv')\n",
    "data1.head()"
   ]
  },
  {
   "cell_type": "code",
   "execution_count": 3,
   "id": "d8aaccfb",
   "metadata": {},
   "outputs": [
    {
     "data": {
      "text/html": [
       "<div>\n",
       "<style scoped>\n",
       "    .dataframe tbody tr th:only-of-type {\n",
       "        vertical-align: middle;\n",
       "    }\n",
       "\n",
       "    .dataframe tbody tr th {\n",
       "        vertical-align: top;\n",
       "    }\n",
       "\n",
       "    .dataframe thead th {\n",
       "        text-align: right;\n",
       "    }\n",
       "</style>\n",
       "<table border=\"1\" class=\"dataframe\">\n",
       "  <thead>\n",
       "    <tr style=\"text-align: right;\">\n",
       "      <th></th>\n",
       "      <th>patientid</th>\n",
       "      <th>sex</th>\n",
       "      <th>age</th>\n",
       "      <th>finding</th>\n",
       "      <th>modality</th>\n",
       "      <th>filename</th>\n",
       "    </tr>\n",
       "  </thead>\n",
       "  <tbody>\n",
       "    <tr>\n",
       "      <th>0</th>\n",
       "      <td>PID_2</td>\n",
       "      <td>M</td>\n",
       "      <td>65.0</td>\n",
       "      <td>COVID-19</td>\n",
       "      <td>X-ray</td>\n",
       "      <td>PID_2_auntminnie-a-2020_01_28_23_51_6665_2020_...</td>\n",
       "    </tr>\n",
       "    <tr>\n",
       "      <th>1</th>\n",
       "      <td>PID_4</td>\n",
       "      <td>F</td>\n",
       "      <td>52.0</td>\n",
       "      <td>COVID-19</td>\n",
       "      <td>X-ray</td>\n",
       "      <td>PID_4_nejmc2001573_f1a</td>\n",
       "    </tr>\n",
       "    <tr>\n",
       "      <th>2</th>\n",
       "      <td>PID_6</td>\n",
       "      <td>Unknown</td>\n",
       "      <td>Unknown</td>\n",
       "      <td>COVID-19</td>\n",
       "      <td>X-ray</td>\n",
       "      <td>PID_6_lancet-case2a</td>\n",
       "    </tr>\n",
       "    <tr>\n",
       "      <th>3</th>\n",
       "      <td>PID_11</td>\n",
       "      <td>M</td>\n",
       "      <td>56.0</td>\n",
       "      <td>COVID-19</td>\n",
       "      <td>X-ray</td>\n",
       "      <td>PID_11_1-s2.0-S0140673620303706-fx1_lrg</td>\n",
       "    </tr>\n",
       "    <tr>\n",
       "      <th>4</th>\n",
       "      <td>PID_12</td>\n",
       "      <td>M</td>\n",
       "      <td>42.0</td>\n",
       "      <td>COVID-19</td>\n",
       "      <td>X-ray</td>\n",
       "      <td>PID_12_nCoV-radiol.2020200269.fig1-day7</td>\n",
       "    </tr>\n",
       "  </tbody>\n",
       "</table>\n",
       "</div>"
      ],
      "text/plain": [
       "  patientid      sex      age   finding modality  \\\n",
       "0     PID_2        M     65.0  COVID-19    X-ray   \n",
       "1     PID_4        F     52.0  COVID-19    X-ray   \n",
       "2     PID_6  Unknown  Unknown  COVID-19    X-ray   \n",
       "3    PID_11        M     56.0  COVID-19    X-ray   \n",
       "4    PID_12        M     42.0  COVID-19    X-ray   \n",
       "\n",
       "                                            filename  \n",
       "0  PID_2_auntminnie-a-2020_01_28_23_51_6665_2020_...  \n",
       "1                             PID_4_nejmc2001573_f1a  \n",
       "2                                PID_6_lancet-case2a  \n",
       "3            PID_11_1-s2.0-S0140673620303706-fx1_lrg  \n",
       "4            PID_12_nCoV-radiol.2020200269.fig1-day7  "
      ]
     },
     "execution_count": 3,
     "metadata": {},
     "output_type": "execute_result"
    }
   ],
   "source": [
    "data2=pd.read_csv('https://raw.githubusercontent.com/RashmiAPatel19/SMU-MSDS-CapstoneA/main/Data/metadata.csv')\n",
    "data2.head()"
   ]
  },
  {
   "cell_type": "code",
   "execution_count": 4,
   "id": "243e2c89",
   "metadata": {},
   "outputs": [
    {
     "data": {
      "text/html": [
       "<div>\n",
       "<style scoped>\n",
       "    .dataframe tbody tr th:only-of-type {\n",
       "        vertical-align: middle;\n",
       "    }\n",
       "\n",
       "    .dataframe tbody tr th {\n",
       "        vertical-align: top;\n",
       "    }\n",
       "\n",
       "    .dataframe thead th {\n",
       "        text-align: right;\n",
       "    }\n",
       "</style>\n",
       "<table border=\"1\" class=\"dataframe\">\n",
       "  <thead>\n",
       "    <tr style=\"text-align: right;\">\n",
       "      <th></th>\n",
       "      <th>fname</th>\n",
       "      <th>StudyInstanceUID</th>\n",
       "      <th>number</th>\n",
       "      <th>labels</th>\n",
       "      <th>Age</th>\n",
       "      <th>Gender</th>\n",
       "      <th>Description</th>\n",
       "      <th>ImageCount</th>\n",
       "      <th>Result</th>\n",
       "      <th>Test</th>\n",
       "    </tr>\n",
       "  </thead>\n",
       "  <tbody>\n",
       "    <tr>\n",
       "      <th>0</th>\n",
       "      <td>SITE2-000269_04-22-2005-37787_1.000000-58903_0...</td>\n",
       "      <td>1.2.826.0.1.3680043.10.474.2032524718029734846...</td>\n",
       "      <td>1</td>\n",
       "      <td>Mild Atypical,Severe Atypical,Indeterminate Mild</td>\n",
       "      <td>56</td>\n",
       "      <td>F</td>\n",
       "      <td>CXR</td>\n",
       "      <td>1</td>\n",
       "      <td>DETECTED</td>\n",
       "      <td>RT-PCR</td>\n",
       "    </tr>\n",
       "    <tr>\n",
       "      <th>1</th>\n",
       "      <td>419639-003013_07-11-2006-XR CHEST 1 VIEW AP-88...</td>\n",
       "      <td>1.2.826.0.1.3680043.10.474.419639.326405235136...</td>\n",
       "      <td>2</td>\n",
       "      <td>Negative,Mild Indeterminate,Indeterminate Mode...</td>\n",
       "      <td>71</td>\n",
       "      <td>M</td>\n",
       "      <td>XR CHEST 1 VIEW AP</td>\n",
       "      <td>2</td>\n",
       "      <td>DETECTED</td>\n",
       "      <td>Pooled NP/OP Swab</td>\n",
       "    </tr>\n",
       "    <tr>\n",
       "      <th>2</th>\n",
       "      <td>SITE2-000270_02-01-2000-57009_1.000000-79823_0...</td>\n",
       "      <td>1.2.826.0.1.3680043.10.474.1429987870003188069...</td>\n",
       "      <td>3</td>\n",
       "      <td>Atypical Moderate,Severe Typical,Typical Severe</td>\n",
       "      <td>59</td>\n",
       "      <td>M</td>\n",
       "      <td>CXR</td>\n",
       "      <td>1</td>\n",
       "      <td>DETECTED</td>\n",
       "      <td>RT-PCR</td>\n",
       "    </tr>\n",
       "    <tr>\n",
       "      <th>3</th>\n",
       "      <td>419639-001021_06-16-2009-XR CHEST 1 VIEW AP-03...</td>\n",
       "      <td>1.2.826.0.1.3680043.10.474.419639.172401080953...</td>\n",
       "      <td>4</td>\n",
       "      <td>Atypical Moderate,Severe Indeterminate,Severe ...</td>\n",
       "      <td>44</td>\n",
       "      <td>M</td>\n",
       "      <td>XR CHEST 1 VIEW AP</td>\n",
       "      <td>1</td>\n",
       "      <td>DETECTED</td>\n",
       "      <td>NaN</td>\n",
       "    </tr>\n",
       "    <tr>\n",
       "      <th>4</th>\n",
       "      <td>SITE2-000199_12-15-2003-33347_1.000000-58561_0...</td>\n",
       "      <td>1.2.826.0.1.3680043.10.474.5918129065441120746...</td>\n",
       "      <td>5</td>\n",
       "      <td>Mild Atypical,Atypical Moderate,Indeterminate ...</td>\n",
       "      <td>57</td>\n",
       "      <td>M</td>\n",
       "      <td>CXR</td>\n",
       "      <td>1</td>\n",
       "      <td>DETECTED</td>\n",
       "      <td>RT-PCR</td>\n",
       "    </tr>\n",
       "  </tbody>\n",
       "</table>\n",
       "</div>"
      ],
      "text/plain": [
       "                                               fname  \\\n",
       "0  SITE2-000269_04-22-2005-37787_1.000000-58903_0...   \n",
       "1  419639-003013_07-11-2006-XR CHEST 1 VIEW AP-88...   \n",
       "2  SITE2-000270_02-01-2000-57009_1.000000-79823_0...   \n",
       "3  419639-001021_06-16-2009-XR CHEST 1 VIEW AP-03...   \n",
       "4  SITE2-000199_12-15-2003-33347_1.000000-58561_0...   \n",
       "\n",
       "                                    StudyInstanceUID  number  \\\n",
       "0  1.2.826.0.1.3680043.10.474.2032524718029734846...       1   \n",
       "1  1.2.826.0.1.3680043.10.474.419639.326405235136...       2   \n",
       "2  1.2.826.0.1.3680043.10.474.1429987870003188069...       3   \n",
       "3  1.2.826.0.1.3680043.10.474.419639.172401080953...       4   \n",
       "4  1.2.826.0.1.3680043.10.474.5918129065441120746...       5   \n",
       "\n",
       "                                              labels  Age Gender  \\\n",
       "0   Mild Atypical,Severe Atypical,Indeterminate Mild   56      F   \n",
       "1  Negative,Mild Indeterminate,Indeterminate Mode...   71      M   \n",
       "2    Atypical Moderate,Severe Typical,Typical Severe   59      M   \n",
       "3  Atypical Moderate,Severe Indeterminate,Severe ...   44      M   \n",
       "4  Mild Atypical,Atypical Moderate,Indeterminate ...   57      M   \n",
       "\n",
       "          Description  ImageCount    Result               Test  \n",
       "0                 CXR           1  DETECTED             RT-PCR  \n",
       "1  XR CHEST 1 VIEW AP           2  DETECTED  Pooled NP/OP Swab  \n",
       "2                 CXR           1  DETECTED             RT-PCR  \n",
       "3  XR CHEST 1 VIEW AP           1  DETECTED                NaN  \n",
       "4                 CXR           1  DETECTED             RT-PCR  "
      ]
     },
     "execution_count": 4,
     "metadata": {},
     "output_type": "execute_result"
    }
   ],
   "source": [
    "data3=pd.read_csv('https://raw.githubusercontent.com/RashmiAPatel19/SMU-MSDS-CapstoneA/main/Data/MIDRC-RICORD-meta.csv')\n",
    "data3.head()"
   ]
  },
  {
   "cell_type": "code",
   "execution_count": 5,
   "id": "a94a6c02",
   "metadata": {},
   "outputs": [],
   "source": [
    "# adding modality column to data3 because data1 and data2 have it\n",
    "data3['modality']='X-ray'*data3.shape[0]"
   ]
  },
  {
   "cell_type": "code",
   "execution_count": 6,
   "id": "d46134cc",
   "metadata": {},
   "outputs": [
    {
     "data": {
      "text/plain": [
       "(950, 31)"
      ]
     },
     "execution_count": 6,
     "metadata": {},
     "output_type": "execute_result"
    }
   ],
   "source": [
    "data1['data_ref']='IEEE'*data1.shape[0]\n",
    "data1.shape"
   ]
  },
  {
   "cell_type": "code",
   "execution_count": 7,
   "id": "82f2b3c9",
   "metadata": {},
   "outputs": [
    {
     "data": {
      "text/plain": [
       "(94621, 7)"
      ]
     },
     "execution_count": 7,
     "metadata": {},
     "output_type": "execute_result"
    }
   ],
   "source": [
    "data2['data_ref']='Kaggle'*data2.shape[0]\n",
    "data2.shape"
   ]
  },
  {
   "cell_type": "code",
   "execution_count": 8,
   "id": "8b523697",
   "metadata": {},
   "outputs": [
    {
     "data": {
      "text/plain": [
       "(1022, 12)"
      ]
     },
     "execution_count": 8,
     "metadata": {},
     "output_type": "execute_result"
    }
   ],
   "source": [
    "data3['data_ref']='Kaggle_Ricord'*data3.shape[0]\n",
    "data3.shape"
   ]
  },
  {
   "cell_type": "code",
   "execution_count": 9,
   "id": "8a865010",
   "metadata": {},
   "outputs": [
    {
     "data": {
      "text/plain": [
       "Index(['fname', 'StudyInstanceUID', 'number', 'labels', 'Age', 'Gender',\n",
       "       'Description', 'ImageCount', 'Result', 'Test', 'modality', 'data_ref'],\n",
       "      dtype='object')"
      ]
     },
     "execution_count": 9,
     "metadata": {},
     "output_type": "execute_result"
    }
   ],
   "source": [
    "data3.columns"
   ]
  },
  {
   "cell_type": "code",
   "execution_count": 10,
   "id": "1a425468",
   "metadata": {},
   "outputs": [
    {
     "data": {
      "text/plain": [
       "Index(['fname', 'StudyInstanceUID', 'number', 'labels', 'Age', 'Gender',\n",
       "       'Description', 'ImageCount', 'Result', 'Test', 'modality', 'data_ref'],\n",
       "      dtype='object')"
      ]
     },
     "execution_count": 10,
     "metadata": {},
     "output_type": "execute_result"
    }
   ],
   "source": [
    "data3.drop('Description',axis=1)\n",
    "data3.columns"
   ]
  },
  {
   "cell_type": "code",
   "execution_count": 11,
   "id": "70ffe45e",
   "metadata": {
    "scrolled": true
   },
   "outputs": [
    {
     "data": {
      "text/plain": [
       "Index(['patientid', 'offset', 'sex', 'age', 'finding', 'RT_PCR_positive',\n",
       "       'survival', 'intubated', 'intubation_present', 'went_icu', 'in_icu',\n",
       "       'needed_supplemental_O2', 'extubated', 'temperature', 'pO2_saturation',\n",
       "       'leukocyte_count', 'neutrophil_count', 'lymphocyte_count', 'view',\n",
       "       'modality', 'date', 'location', 'folder', 'filename', 'doi', 'url',\n",
       "       'license', 'clinical_notes', 'other_notes', 'Unnamed: 29', 'data_ref'],\n",
       "      dtype='object')"
      ]
     },
     "execution_count": 11,
     "metadata": {},
     "output_type": "execute_result"
    }
   ],
   "source": [
    "data1.columns\n"
   ]
  },
  {
   "cell_type": "code",
   "execution_count": 12,
   "id": "df91fb7e",
   "metadata": {},
   "outputs": [
    {
     "data": {
      "text/plain": [
       "X-ray    866\n",
       "CT        84\n",
       "Name: modality, dtype: int64"
      ]
     },
     "execution_count": 12,
     "metadata": {},
     "output_type": "execute_result"
    }
   ],
   "source": [
    "data1['modality'].value_counts()"
   ]
  },
  {
   "cell_type": "code",
   "execution_count": 13,
   "id": "7d89821a",
   "metadata": {},
   "outputs": [
    {
     "name": "stdout",
     "output_type": "stream",
     "text": [
      "866\n"
     ]
    },
    {
     "data": {
      "text/plain": [
       "(866, 31)"
      ]
     },
     "execution_count": 13,
     "metadata": {},
     "output_type": "execute_result"
    }
   ],
   "source": [
    "# Since we are working with just X-rays, we will remove CT images\n",
    "print(len(data1[data1['modality']!='CT']))\n",
    "data4=data1[data1['modality']!='CT']\n",
    "data4.shape"
   ]
  },
  {
   "cell_type": "code",
   "execution_count": 14,
   "id": "47964a77",
   "metadata": {},
   "outputs": [
    {
     "data": {
      "text/plain": [
       "CT       93802\n",
       "X-ray      819\n",
       "Name: modality, dtype: int64"
      ]
     },
     "execution_count": 14,
     "metadata": {},
     "output_type": "execute_result"
    }
   ],
   "source": [
    "data2['modality'].value_counts()"
   ]
  },
  {
   "cell_type": "code",
   "execution_count": 15,
   "id": "983989fd",
   "metadata": {},
   "outputs": [
    {
     "name": "stdout",
     "output_type": "stream",
     "text": [
      "819\n"
     ]
    },
    {
     "data": {
      "text/plain": [
       "(819, 7)"
      ]
     },
     "execution_count": 15,
     "metadata": {},
     "output_type": "execute_result"
    }
   ],
   "source": [
    "# Since we are working with just X-rays, we will remove CT images\n",
    "print(len(data2[data2['modality']!='CT']))\n",
    "data5=data2[data2['modality']!='CT']\n",
    "data5.shape"
   ]
  },
  {
   "cell_type": "code",
   "execution_count": 16,
   "id": "37392e11",
   "metadata": {},
   "outputs": [
    {
     "name": "stderr",
     "output_type": "stream",
     "text": [
      "/Users/arth/opt/anaconda3/lib/python3.8/site-packages/pandas/core/frame.py:4441: SettingWithCopyWarning: \n",
      "A value is trying to be set on a copy of a slice from a DataFrame\n",
      "\n",
      "See the caveats in the documentation: https://pandas.pydata.org/pandas-docs/stable/user_guide/indexing.html#returning-a-view-versus-a-copy\n",
      "  return super().rename(\n"
     ]
    },
    {
     "data": {
      "text/plain": [
       "Index(['patientid', 'offset', 'sex', 'age', 'finding', 'Covid-Detection',\n",
       "       'survival', 'intubated', 'intubation_present', 'went_icu', 'in_icu',\n",
       "       'needed_supplemental_O2', 'extubated', 'temperature', 'pO2_saturation',\n",
       "       'leukocyte_count', 'neutrophil_count', 'lymphocyte_count', 'view',\n",
       "       'modality', 'date', 'location', 'folder', 'filename', 'doi', 'url',\n",
       "       'license', 'clinical_notes', 'other_notes', 'Unnamed: 29', 'data_ref'],\n",
       "      dtype='object')"
      ]
     },
     "execution_count": 16,
     "metadata": {},
     "output_type": "execute_result"
    }
   ],
   "source": [
    "data4.rename({'RT_PCR_positive':'Covid-Detection'},axis=1,inplace=True)\n",
    "data4.columns"
   ]
  },
  {
   "cell_type": "code",
   "execution_count": 17,
   "id": "1d4cced2",
   "metadata": {},
   "outputs": [
    {
     "data": {
      "text/plain": [
       "Index(['patientid', 'sex', 'age', 'Covid-Detection', 'modality', 'filename',\n",
       "       'data_ref'],\n",
       "      dtype='object')"
      ]
     },
     "execution_count": 17,
     "metadata": {},
     "output_type": "execute_result"
    }
   ],
   "source": [
    "data5.rename({'finding':'Covid-Detection'},axis=1,inplace=True)\n",
    "data5.columns"
   ]
  },
  {
   "cell_type": "code",
   "execution_count": 18,
   "id": "b569323f",
   "metadata": {},
   "outputs": [],
   "source": [
    "data6= pd.concat([data4, data5], axis=0)"
   ]
  },
  {
   "cell_type": "code",
   "execution_count": 19,
   "id": "9e35388b",
   "metadata": {},
   "outputs": [
    {
     "data": {
      "text/plain": [
       "Index(['patientid', 'offset', 'sex', 'age', 'finding', 'Covid-Detection',\n",
       "       'survival', 'intubated', 'intubation_present', 'went_icu', 'in_icu',\n",
       "       'needed_supplemental_O2', 'extubated', 'temperature', 'pO2_saturation',\n",
       "       'leukocyte_count', 'neutrophil_count', 'lymphocyte_count', 'view',\n",
       "       'modality', 'date', 'location', 'folder', 'filename', 'doi', 'url',\n",
       "       'license', 'clinical_notes', 'other_notes', 'Unnamed: 29', 'data_ref'],\n",
       "      dtype='object')"
      ]
     },
     "execution_count": 19,
     "metadata": {},
     "output_type": "execute_result"
    }
   ],
   "source": [
    "data6.columns"
   ]
  },
  {
   "cell_type": "code",
   "execution_count": 20,
   "id": "266baa67",
   "metadata": {},
   "outputs": [
    {
     "data": {
      "text/html": [
       "<div>\n",
       "<style scoped>\n",
       "    .dataframe tbody tr th:only-of-type {\n",
       "        vertical-align: middle;\n",
       "    }\n",
       "\n",
       "    .dataframe tbody tr th {\n",
       "        vertical-align: top;\n",
       "    }\n",
       "\n",
       "    .dataframe thead th {\n",
       "        text-align: right;\n",
       "    }\n",
       "</style>\n",
       "<table border=\"1\" class=\"dataframe\">\n",
       "  <thead>\n",
       "    <tr style=\"text-align: right;\">\n",
       "      <th></th>\n",
       "      <th>patientid</th>\n",
       "      <th>offset</th>\n",
       "      <th>sex</th>\n",
       "      <th>age</th>\n",
       "      <th>finding</th>\n",
       "      <th>Covid-Detection</th>\n",
       "      <th>survival</th>\n",
       "      <th>intubated</th>\n",
       "      <th>intubation_present</th>\n",
       "      <th>went_icu</th>\n",
       "      <th>...</th>\n",
       "      <th>location</th>\n",
       "      <th>folder</th>\n",
       "      <th>filename</th>\n",
       "      <th>doi</th>\n",
       "      <th>url</th>\n",
       "      <th>license</th>\n",
       "      <th>clinical_notes</th>\n",
       "      <th>other_notes</th>\n",
       "      <th>Unnamed: 29</th>\n",
       "      <th>data_ref</th>\n",
       "    </tr>\n",
       "  </thead>\n",
       "  <tbody>\n",
       "    <tr>\n",
       "      <th>0</th>\n",
       "      <td>2</td>\n",
       "      <td>0.0</td>\n",
       "      <td>M</td>\n",
       "      <td>65.0</td>\n",
       "      <td>Pneumonia/Viral/COVID-19</td>\n",
       "      <td>Y</td>\n",
       "      <td>Y</td>\n",
       "      <td>N</td>\n",
       "      <td>N</td>\n",
       "      <td>N</td>\n",
       "      <td>...</td>\n",
       "      <td>Cho Ray Hospital, Ho Chi Minh City, Vietnam</td>\n",
       "      <td>images</td>\n",
       "      <td>auntminnie-a-2020_01_28_23_51_6665_2020_01_28_...</td>\n",
       "      <td>10.1056/nejmc2001272</td>\n",
       "      <td>https://www.nejm.org/doi/full/10.1056/NEJMc200...</td>\n",
       "      <td>NaN</td>\n",
       "      <td>On January 22, 2020, a 65-year-old man with a ...</td>\n",
       "      <td>NaN</td>\n",
       "      <td>NaN</td>\n",
       "      <td>IEEEIEEEIEEEIEEEIEEEIEEEIEEEIEEEIEEEIEEEIEEEIE...</td>\n",
       "    </tr>\n",
       "    <tr>\n",
       "      <th>1</th>\n",
       "      <td>2</td>\n",
       "      <td>3.0</td>\n",
       "      <td>M</td>\n",
       "      <td>65.0</td>\n",
       "      <td>Pneumonia/Viral/COVID-19</td>\n",
       "      <td>Y</td>\n",
       "      <td>Y</td>\n",
       "      <td>N</td>\n",
       "      <td>N</td>\n",
       "      <td>N</td>\n",
       "      <td>...</td>\n",
       "      <td>Cho Ray Hospital, Ho Chi Minh City, Vietnam</td>\n",
       "      <td>images</td>\n",
       "      <td>auntminnie-b-2020_01_28_23_51_6665_2020_01_28_...</td>\n",
       "      <td>10.1056/nejmc2001272</td>\n",
       "      <td>https://www.nejm.org/doi/full/10.1056/NEJMc200...</td>\n",
       "      <td>NaN</td>\n",
       "      <td>On January 22, 2020, a 65-year-old man with a ...</td>\n",
       "      <td>NaN</td>\n",
       "      <td>NaN</td>\n",
       "      <td>IEEEIEEEIEEEIEEEIEEEIEEEIEEEIEEEIEEEIEEEIEEEIE...</td>\n",
       "    </tr>\n",
       "    <tr>\n",
       "      <th>2</th>\n",
       "      <td>2</td>\n",
       "      <td>5.0</td>\n",
       "      <td>M</td>\n",
       "      <td>65.0</td>\n",
       "      <td>Pneumonia/Viral/COVID-19</td>\n",
       "      <td>Y</td>\n",
       "      <td>Y</td>\n",
       "      <td>N</td>\n",
       "      <td>N</td>\n",
       "      <td>N</td>\n",
       "      <td>...</td>\n",
       "      <td>Cho Ray Hospital, Ho Chi Minh City, Vietnam</td>\n",
       "      <td>images</td>\n",
       "      <td>auntminnie-c-2020_01_28_23_51_6665_2020_01_28_...</td>\n",
       "      <td>10.1056/nejmc2001272</td>\n",
       "      <td>https://www.nejm.org/doi/full/10.1056/NEJMc200...</td>\n",
       "      <td>NaN</td>\n",
       "      <td>On January 22, 2020, a 65-year-old man with a ...</td>\n",
       "      <td>NaN</td>\n",
       "      <td>NaN</td>\n",
       "      <td>IEEEIEEEIEEEIEEEIEEEIEEEIEEEIEEEIEEEIEEEIEEEIE...</td>\n",
       "    </tr>\n",
       "    <tr>\n",
       "      <th>3</th>\n",
       "      <td>2</td>\n",
       "      <td>6.0</td>\n",
       "      <td>M</td>\n",
       "      <td>65.0</td>\n",
       "      <td>Pneumonia/Viral/COVID-19</td>\n",
       "      <td>Y</td>\n",
       "      <td>Y</td>\n",
       "      <td>N</td>\n",
       "      <td>N</td>\n",
       "      <td>N</td>\n",
       "      <td>...</td>\n",
       "      <td>Cho Ray Hospital, Ho Chi Minh City, Vietnam</td>\n",
       "      <td>images</td>\n",
       "      <td>auntminnie-d-2020_01_28_23_51_6665_2020_01_28_...</td>\n",
       "      <td>10.1056/nejmc2001272</td>\n",
       "      <td>https://www.nejm.org/doi/full/10.1056/NEJMc200...</td>\n",
       "      <td>NaN</td>\n",
       "      <td>On January 22, 2020, a 65-year-old man with a ...</td>\n",
       "      <td>NaN</td>\n",
       "      <td>NaN</td>\n",
       "      <td>IEEEIEEEIEEEIEEEIEEEIEEEIEEEIEEEIEEEIEEEIEEEIE...</td>\n",
       "    </tr>\n",
       "    <tr>\n",
       "      <th>4</th>\n",
       "      <td>4</td>\n",
       "      <td>0.0</td>\n",
       "      <td>F</td>\n",
       "      <td>52.0</td>\n",
       "      <td>Pneumonia/Viral/COVID-19</td>\n",
       "      <td>Y</td>\n",
       "      <td>NaN</td>\n",
       "      <td>N</td>\n",
       "      <td>N</td>\n",
       "      <td>N</td>\n",
       "      <td>...</td>\n",
       "      <td>Changhua Christian Hospital, Changhua City, Ta...</td>\n",
       "      <td>images</td>\n",
       "      <td>nejmc2001573_f1a.jpeg</td>\n",
       "      <td>10.1056/NEJMc2001573</td>\n",
       "      <td>https://www.nejm.org/doi/full/10.1056/NEJMc200...</td>\n",
       "      <td>NaN</td>\n",
       "      <td>diffuse infiltrates in the bilateral lower lungs</td>\n",
       "      <td>NaN</td>\n",
       "      <td>NaN</td>\n",
       "      <td>IEEEIEEEIEEEIEEEIEEEIEEEIEEEIEEEIEEEIEEEIEEEIE...</td>\n",
       "    </tr>\n",
       "  </tbody>\n",
       "</table>\n",
       "<p>5 rows × 31 columns</p>\n",
       "</div>"
      ],
      "text/plain": [
       "  patientid  offset sex   age                   finding Covid-Detection  \\\n",
       "0         2     0.0   M  65.0  Pneumonia/Viral/COVID-19               Y   \n",
       "1         2     3.0   M  65.0  Pneumonia/Viral/COVID-19               Y   \n",
       "2         2     5.0   M  65.0  Pneumonia/Viral/COVID-19               Y   \n",
       "3         2     6.0   M  65.0  Pneumonia/Viral/COVID-19               Y   \n",
       "4         4     0.0   F  52.0  Pneumonia/Viral/COVID-19               Y   \n",
       "\n",
       "  survival intubated intubation_present went_icu  ...  \\\n",
       "0        Y         N                  N        N  ...   \n",
       "1        Y         N                  N        N  ...   \n",
       "2        Y         N                  N        N  ...   \n",
       "3        Y         N                  N        N  ...   \n",
       "4      NaN         N                  N        N  ...   \n",
       "\n",
       "                                            location  folder  \\\n",
       "0        Cho Ray Hospital, Ho Chi Minh City, Vietnam  images   \n",
       "1        Cho Ray Hospital, Ho Chi Minh City, Vietnam  images   \n",
       "2        Cho Ray Hospital, Ho Chi Minh City, Vietnam  images   \n",
       "3        Cho Ray Hospital, Ho Chi Minh City, Vietnam  images   \n",
       "4  Changhua Christian Hospital, Changhua City, Ta...  images   \n",
       "\n",
       "                                            filename                   doi  \\\n",
       "0  auntminnie-a-2020_01_28_23_51_6665_2020_01_28_...  10.1056/nejmc2001272   \n",
       "1  auntminnie-b-2020_01_28_23_51_6665_2020_01_28_...  10.1056/nejmc2001272   \n",
       "2  auntminnie-c-2020_01_28_23_51_6665_2020_01_28_...  10.1056/nejmc2001272   \n",
       "3  auntminnie-d-2020_01_28_23_51_6665_2020_01_28_...  10.1056/nejmc2001272   \n",
       "4                              nejmc2001573_f1a.jpeg  10.1056/NEJMc2001573   \n",
       "\n",
       "                                                 url  license  \\\n",
       "0  https://www.nejm.org/doi/full/10.1056/NEJMc200...      NaN   \n",
       "1  https://www.nejm.org/doi/full/10.1056/NEJMc200...      NaN   \n",
       "2  https://www.nejm.org/doi/full/10.1056/NEJMc200...      NaN   \n",
       "3  https://www.nejm.org/doi/full/10.1056/NEJMc200...      NaN   \n",
       "4  https://www.nejm.org/doi/full/10.1056/NEJMc200...      NaN   \n",
       "\n",
       "                                      clinical_notes  other_notes Unnamed: 29  \\\n",
       "0  On January 22, 2020, a 65-year-old man with a ...          NaN         NaN   \n",
       "1  On January 22, 2020, a 65-year-old man with a ...          NaN         NaN   \n",
       "2  On January 22, 2020, a 65-year-old man with a ...          NaN         NaN   \n",
       "3  On January 22, 2020, a 65-year-old man with a ...          NaN         NaN   \n",
       "4   diffuse infiltrates in the bilateral lower lungs          NaN         NaN   \n",
       "\n",
       "                                            data_ref  \n",
       "0  IEEEIEEEIEEEIEEEIEEEIEEEIEEEIEEEIEEEIEEEIEEEIE...  \n",
       "1  IEEEIEEEIEEEIEEEIEEEIEEEIEEEIEEEIEEEIEEEIEEEIE...  \n",
       "2  IEEEIEEEIEEEIEEEIEEEIEEEIEEEIEEEIEEEIEEEIEEEIE...  \n",
       "3  IEEEIEEEIEEEIEEEIEEEIEEEIEEEIEEEIEEEIEEEIEEEIE...  \n",
       "4  IEEEIEEEIEEEIEEEIEEEIEEEIEEEIEEEIEEEIEEEIEEEIE...  \n",
       "\n",
       "[5 rows x 31 columns]"
      ]
     },
     "execution_count": 20,
     "metadata": {},
     "output_type": "execute_result"
    }
   ],
   "source": [
    "data6.head()"
   ]
  },
  {
   "cell_type": "code",
   "execution_count": 21,
   "id": "309586d4",
   "metadata": {},
   "outputs": [
    {
     "data": {
      "text/plain": [
       "NON-COVID    532\n",
       "Y            315\n",
       "COVID-19     287\n",
       "Unclear      194\n",
       "Name: Covid-Detection, dtype: int64"
      ]
     },
     "execution_count": 21,
     "metadata": {},
     "output_type": "execute_result"
    }
   ],
   "source": [
    "data6['Covid-Detection'].value_counts()"
   ]
  },
  {
   "cell_type": "code",
   "execution_count": 22,
   "id": "468757cc",
   "metadata": {},
   "outputs": [
    {
     "data": {
      "text/plain": [
       "Index(['patientid', 'sex', 'age', 'Covid-Detection', 'modality', 'filename',\n",
       "       'data_ref'],\n",
       "      dtype='object')"
      ]
     },
     "execution_count": 22,
     "metadata": {},
     "output_type": "execute_result"
    }
   ],
   "source": [
    "data5.columns"
   ]
  },
  {
   "cell_type": "code",
   "execution_count": 23,
   "id": "c75326e5",
   "metadata": {},
   "outputs": [
    {
     "name": "stderr",
     "output_type": "stream",
     "text": [
      "/Users/arth/opt/anaconda3/lib/python3.8/site-packages/pandas/core/frame.py:4441: SettingWithCopyWarning: \n",
      "A value is trying to be set on a copy of a slice from a DataFrame\n",
      "\n",
      "See the caveats in the documentation: https://pandas.pydata.org/pandas-docs/stable/user_guide/indexing.html#returning-a-view-versus-a-copy\n",
      "  return super().rename(\n"
     ]
    },
    {
     "data": {
      "text/plain": [
       "Index(['patientid', 'sex', 'age', 'Covid-Detection', 'modality', 'filename',\n",
       "       'data_ref'],\n",
       "      dtype='object')"
      ]
     },
     "execution_count": 23,
     "metadata": {},
     "output_type": "execute_result"
    }
   ],
   "source": [
    "data5.rename({'Age':'age','Gender':'sex'},axis=1,inplace=True)\n",
    "data5.columns"
   ]
  },
  {
   "cell_type": "code",
   "execution_count": 24,
   "id": "d0f71c3c",
   "metadata": {},
   "outputs": [],
   "source": [
    "data7= pd.concat([data6, data5], axis=0)"
   ]
  },
  {
   "cell_type": "code",
   "execution_count": 25,
   "id": "46248541",
   "metadata": {},
   "outputs": [
    {
     "data": {
      "text/plain": [
       "(2504, 31)"
      ]
     },
     "execution_count": 25,
     "metadata": {},
     "output_type": "execute_result"
    }
   ],
   "source": [
    "data7.shape"
   ]
  },
  {
   "cell_type": "code",
   "execution_count": 26,
   "id": "e41ac0ef",
   "metadata": {},
   "outputs": [
    {
     "data": {
      "text/plain": [
       "Index(['patientid', 'offset', 'sex', 'age', 'finding', 'Covid-Detection',\n",
       "       'survival', 'intubated', 'intubation_present', 'went_icu', 'in_icu',\n",
       "       'needed_supplemental_O2', 'extubated', 'temperature', 'pO2_saturation',\n",
       "       'leukocyte_count', 'neutrophil_count', 'lymphocyte_count', 'view',\n",
       "       'modality', 'date', 'location', 'folder', 'filename', 'doi', 'url',\n",
       "       'license', 'clinical_notes', 'other_notes', 'Unnamed: 29', 'data_ref'],\n",
       "      dtype='object')"
      ]
     },
     "execution_count": 26,
     "metadata": {},
     "output_type": "execute_result"
    }
   ],
   "source": [
    "data7.columns"
   ]
  },
  {
   "cell_type": "code",
   "execution_count": 27,
   "id": "0e647f71",
   "metadata": {},
   "outputs": [
    {
     "data": {
      "text/plain": [
       "Unknown    1102\n",
       "M           861\n",
       "F           478\n",
       "Name: sex, dtype: int64"
      ]
     },
     "execution_count": 27,
     "metadata": {},
     "output_type": "execute_result"
    }
   ],
   "source": [
    "# 63 are Null values\n",
    "data7['sex'].value_counts()"
   ]
  },
  {
   "cell_type": "code",
   "execution_count": 28,
   "id": "87564bcc",
   "metadata": {},
   "outputs": [
    {
     "name": "stdout",
     "output_type": "stream",
     "text": [
      "230\n",
      "1192\n"
     ]
    }
   ],
   "source": [
    "# Out of 2504 rows, onl 1082 have values (NO NULL OR UNKNOWN)\n",
    "print(data7['age'].isna().sum())\n",
    "print(len(data7[data7['age']=='Unknown']))"
   ]
  },
  {
   "cell_type": "code",
   "execution_count": 30,
   "id": "7714d48d",
   "metadata": {},
   "outputs": [],
   "source": [
    "data7.to_csv('covid_merged_data.csv')"
   ]
  }
 ],
 "metadata": {
  "kernelspec": {
   "display_name": "Python 3",
   "language": "python",
   "name": "python3"
  },
  "language_info": {
   "codemirror_mode": {
    "name": "ipython",
    "version": 3
   },
   "file_extension": ".py",
   "mimetype": "text/x-python",
   "name": "python",
   "nbconvert_exporter": "python",
   "pygments_lexer": "ipython3",
   "version": "3.8.8"
  }
 },
 "nbformat": 4,
 "nbformat_minor": 5
}
