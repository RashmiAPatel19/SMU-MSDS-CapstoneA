{
 "cells": [
  {
   "cell_type": "code",
   "execution_count": 1,
   "id": "5fe3eaf7",
   "metadata": {},
   "outputs": [],
   "source": [
    "#import reuqired libraries\n",
    "import pandas as pd\n",
    "import numpy as np\n",
    "import matplotlib.pyplot as plt\n",
    "import seaborn as sns"
   ]
  },
  {
   "cell_type": "code",
   "execution_count": 2,
   "id": "e6bc25c5",
   "metadata": {},
   "outputs": [],
   "source": [
    "data=pd.read_csv('./covid_merged_data.csv')\n"
   ]
  },
  {
   "cell_type": "code",
   "execution_count": 3,
   "id": "a048b612",
   "metadata": {},
   "outputs": [
    {
     "data": {
      "text/html": [
       "<div>\n",
       "<style scoped>\n",
       "    .dataframe tbody tr th:only-of-type {\n",
       "        vertical-align: middle;\n",
       "    }\n",
       "\n",
       "    .dataframe tbody tr th {\n",
       "        vertical-align: top;\n",
       "    }\n",
       "\n",
       "    .dataframe thead th {\n",
       "        text-align: right;\n",
       "    }\n",
       "</style>\n",
       "<table border=\"1\" class=\"dataframe\">\n",
       "  <thead>\n",
       "    <tr style=\"text-align: right;\">\n",
       "      <th></th>\n",
       "      <th>Unnamed: 0</th>\n",
       "      <th>patientid</th>\n",
       "      <th>offset</th>\n",
       "      <th>sex</th>\n",
       "      <th>age</th>\n",
       "      <th>finding</th>\n",
       "      <th>Covid-Detection</th>\n",
       "      <th>survival</th>\n",
       "      <th>intubated</th>\n",
       "      <th>intubation_present</th>\n",
       "      <th>...</th>\n",
       "      <th>location</th>\n",
       "      <th>folder</th>\n",
       "      <th>filename</th>\n",
       "      <th>doi</th>\n",
       "      <th>url</th>\n",
       "      <th>license</th>\n",
       "      <th>clinical_notes</th>\n",
       "      <th>other_notes</th>\n",
       "      <th>Unnamed: 29</th>\n",
       "      <th>data_ref</th>\n",
       "    </tr>\n",
       "  </thead>\n",
       "  <tbody>\n",
       "    <tr>\n",
       "      <th>0</th>\n",
       "      <td>0</td>\n",
       "      <td>2</td>\n",
       "      <td>0.0</td>\n",
       "      <td>M</td>\n",
       "      <td>65.0</td>\n",
       "      <td>Pneumonia/Viral/COVID-19</td>\n",
       "      <td>Y</td>\n",
       "      <td>Y</td>\n",
       "      <td>N</td>\n",
       "      <td>N</td>\n",
       "      <td>...</td>\n",
       "      <td>Cho Ray Hospital, Ho Chi Minh City, Vietnam</td>\n",
       "      <td>images</td>\n",
       "      <td>auntminnie-a-2020_01_28_23_51_6665_2020_01_28_...</td>\n",
       "      <td>10.1056/nejmc2001272</td>\n",
       "      <td>https://www.nejm.org/doi/full/10.1056/NEJMc200...</td>\n",
       "      <td>NaN</td>\n",
       "      <td>On January 22, 2020, a 65-year-old man with a ...</td>\n",
       "      <td>NaN</td>\n",
       "      <td>NaN</td>\n",
       "      <td>IEEE</td>\n",
       "    </tr>\n",
       "    <tr>\n",
       "      <th>1</th>\n",
       "      <td>1</td>\n",
       "      <td>2</td>\n",
       "      <td>3.0</td>\n",
       "      <td>M</td>\n",
       "      <td>65.0</td>\n",
       "      <td>Pneumonia/Viral/COVID-19</td>\n",
       "      <td>Y</td>\n",
       "      <td>Y</td>\n",
       "      <td>N</td>\n",
       "      <td>N</td>\n",
       "      <td>...</td>\n",
       "      <td>Cho Ray Hospital, Ho Chi Minh City, Vietnam</td>\n",
       "      <td>images</td>\n",
       "      <td>auntminnie-b-2020_01_28_23_51_6665_2020_01_28_...</td>\n",
       "      <td>10.1056/nejmc2001272</td>\n",
       "      <td>https://www.nejm.org/doi/full/10.1056/NEJMc200...</td>\n",
       "      <td>NaN</td>\n",
       "      <td>On January 22, 2020, a 65-year-old man with a ...</td>\n",
       "      <td>NaN</td>\n",
       "      <td>NaN</td>\n",
       "      <td>IEEE</td>\n",
       "    </tr>\n",
       "    <tr>\n",
       "      <th>2</th>\n",
       "      <td>2</td>\n",
       "      <td>2</td>\n",
       "      <td>5.0</td>\n",
       "      <td>M</td>\n",
       "      <td>65.0</td>\n",
       "      <td>Pneumonia/Viral/COVID-19</td>\n",
       "      <td>Y</td>\n",
       "      <td>Y</td>\n",
       "      <td>N</td>\n",
       "      <td>N</td>\n",
       "      <td>...</td>\n",
       "      <td>Cho Ray Hospital, Ho Chi Minh City, Vietnam</td>\n",
       "      <td>images</td>\n",
       "      <td>auntminnie-c-2020_01_28_23_51_6665_2020_01_28_...</td>\n",
       "      <td>10.1056/nejmc2001272</td>\n",
       "      <td>https://www.nejm.org/doi/full/10.1056/NEJMc200...</td>\n",
       "      <td>NaN</td>\n",
       "      <td>On January 22, 2020, a 65-year-old man with a ...</td>\n",
       "      <td>NaN</td>\n",
       "      <td>NaN</td>\n",
       "      <td>IEEE</td>\n",
       "    </tr>\n",
       "    <tr>\n",
       "      <th>3</th>\n",
       "      <td>3</td>\n",
       "      <td>2</td>\n",
       "      <td>6.0</td>\n",
       "      <td>M</td>\n",
       "      <td>65.0</td>\n",
       "      <td>Pneumonia/Viral/COVID-19</td>\n",
       "      <td>Y</td>\n",
       "      <td>Y</td>\n",
       "      <td>N</td>\n",
       "      <td>N</td>\n",
       "      <td>...</td>\n",
       "      <td>Cho Ray Hospital, Ho Chi Minh City, Vietnam</td>\n",
       "      <td>images</td>\n",
       "      <td>auntminnie-d-2020_01_28_23_51_6665_2020_01_28_...</td>\n",
       "      <td>10.1056/nejmc2001272</td>\n",
       "      <td>https://www.nejm.org/doi/full/10.1056/NEJMc200...</td>\n",
       "      <td>NaN</td>\n",
       "      <td>On January 22, 2020, a 65-year-old man with a ...</td>\n",
       "      <td>NaN</td>\n",
       "      <td>NaN</td>\n",
       "      <td>IEEE</td>\n",
       "    </tr>\n",
       "    <tr>\n",
       "      <th>4</th>\n",
       "      <td>4</td>\n",
       "      <td>4</td>\n",
       "      <td>0.0</td>\n",
       "      <td>F</td>\n",
       "      <td>52.0</td>\n",
       "      <td>Pneumonia/Viral/COVID-19</td>\n",
       "      <td>Y</td>\n",
       "      <td>NaN</td>\n",
       "      <td>N</td>\n",
       "      <td>N</td>\n",
       "      <td>...</td>\n",
       "      <td>Changhua Christian Hospital, Changhua City, Ta...</td>\n",
       "      <td>images</td>\n",
       "      <td>nejmc2001573_f1a.jpeg</td>\n",
       "      <td>10.1056/NEJMc2001573</td>\n",
       "      <td>https://www.nejm.org/doi/full/10.1056/NEJMc200...</td>\n",
       "      <td>NaN</td>\n",
       "      <td>diffuse infiltrates in the bilateral lower lungs</td>\n",
       "      <td>NaN</td>\n",
       "      <td>NaN</td>\n",
       "      <td>IEEE</td>\n",
       "    </tr>\n",
       "  </tbody>\n",
       "</table>\n",
       "<p>5 rows × 32 columns</p>\n",
       "</div>"
      ],
      "text/plain": [
       "   Unnamed: 0 patientid  offset sex   age                   finding  \\\n",
       "0           0         2     0.0   M  65.0  Pneumonia/Viral/COVID-19   \n",
       "1           1         2     3.0   M  65.0  Pneumonia/Viral/COVID-19   \n",
       "2           2         2     5.0   M  65.0  Pneumonia/Viral/COVID-19   \n",
       "3           3         2     6.0   M  65.0  Pneumonia/Viral/COVID-19   \n",
       "4           4         4     0.0   F  52.0  Pneumonia/Viral/COVID-19   \n",
       "\n",
       "  Covid-Detection survival intubated intubation_present  ...  \\\n",
       "0               Y        Y         N                  N  ...   \n",
       "1               Y        Y         N                  N  ...   \n",
       "2               Y        Y         N                  N  ...   \n",
       "3               Y        Y         N                  N  ...   \n",
       "4               Y      NaN         N                  N  ...   \n",
       "\n",
       "                                            location  folder  \\\n",
       "0        Cho Ray Hospital, Ho Chi Minh City, Vietnam  images   \n",
       "1        Cho Ray Hospital, Ho Chi Minh City, Vietnam  images   \n",
       "2        Cho Ray Hospital, Ho Chi Minh City, Vietnam  images   \n",
       "3        Cho Ray Hospital, Ho Chi Minh City, Vietnam  images   \n",
       "4  Changhua Christian Hospital, Changhua City, Ta...  images   \n",
       "\n",
       "                                            filename                   doi  \\\n",
       "0  auntminnie-a-2020_01_28_23_51_6665_2020_01_28_...  10.1056/nejmc2001272   \n",
       "1  auntminnie-b-2020_01_28_23_51_6665_2020_01_28_...  10.1056/nejmc2001272   \n",
       "2  auntminnie-c-2020_01_28_23_51_6665_2020_01_28_...  10.1056/nejmc2001272   \n",
       "3  auntminnie-d-2020_01_28_23_51_6665_2020_01_28_...  10.1056/nejmc2001272   \n",
       "4                              nejmc2001573_f1a.jpeg  10.1056/NEJMc2001573   \n",
       "\n",
       "                                                 url  license  \\\n",
       "0  https://www.nejm.org/doi/full/10.1056/NEJMc200...      NaN   \n",
       "1  https://www.nejm.org/doi/full/10.1056/NEJMc200...      NaN   \n",
       "2  https://www.nejm.org/doi/full/10.1056/NEJMc200...      NaN   \n",
       "3  https://www.nejm.org/doi/full/10.1056/NEJMc200...      NaN   \n",
       "4  https://www.nejm.org/doi/full/10.1056/NEJMc200...      NaN   \n",
       "\n",
       "                                      clinical_notes  other_notes  \\\n",
       "0  On January 22, 2020, a 65-year-old man with a ...          NaN   \n",
       "1  On January 22, 2020, a 65-year-old man with a ...          NaN   \n",
       "2  On January 22, 2020, a 65-year-old man with a ...          NaN   \n",
       "3  On January 22, 2020, a 65-year-old man with a ...          NaN   \n",
       "4   diffuse infiltrates in the bilateral lower lungs          NaN   \n",
       "\n",
       "   Unnamed: 29 data_ref  \n",
       "0          NaN     IEEE  \n",
       "1          NaN     IEEE  \n",
       "2          NaN     IEEE  \n",
       "3          NaN     IEEE  \n",
       "4          NaN     IEEE  \n",
       "\n",
       "[5 rows x 32 columns]"
      ]
     },
     "execution_count": 3,
     "metadata": {},
     "output_type": "execute_result"
    }
   ],
   "source": [
    "data.head()"
   ]
  },
  {
   "cell_type": "code",
   "execution_count": 4,
   "id": "ee2b3cf9",
   "metadata": {},
   "outputs": [
    {
     "data": {
      "text/html": [
       "<div>\n",
       "<style scoped>\n",
       "    .dataframe tbody tr th:only-of-type {\n",
       "        vertical-align: middle;\n",
       "    }\n",
       "\n",
       "    .dataframe tbody tr th {\n",
       "        vertical-align: top;\n",
       "    }\n",
       "\n",
       "    .dataframe thead th {\n",
       "        text-align: right;\n",
       "    }\n",
       "</style>\n",
       "<table border=\"1\" class=\"dataframe\">\n",
       "  <thead>\n",
       "    <tr style=\"text-align: right;\">\n",
       "      <th></th>\n",
       "      <th>Unnamed: 0</th>\n",
       "      <th>patientid</th>\n",
       "      <th>offset</th>\n",
       "      <th>sex</th>\n",
       "      <th>age</th>\n",
       "      <th>finding</th>\n",
       "      <th>Covid-Detection</th>\n",
       "      <th>survival</th>\n",
       "      <th>intubated</th>\n",
       "      <th>intubation_present</th>\n",
       "      <th>...</th>\n",
       "      <th>location</th>\n",
       "      <th>folder</th>\n",
       "      <th>filename</th>\n",
       "      <th>doi</th>\n",
       "      <th>url</th>\n",
       "      <th>license</th>\n",
       "      <th>clinical_notes</th>\n",
       "      <th>other_notes</th>\n",
       "      <th>Unnamed: 29</th>\n",
       "      <th>data_ref</th>\n",
       "    </tr>\n",
       "  </thead>\n",
       "  <tbody>\n",
       "    <tr>\n",
       "      <th>1680</th>\n",
       "      <td>94616</td>\n",
       "      <td>IM-0755</td>\n",
       "      <td>NaN</td>\n",
       "      <td>Unknown</td>\n",
       "      <td>Unknown</td>\n",
       "      <td>NaN</td>\n",
       "      <td>NON-COVID</td>\n",
       "      <td>NaN</td>\n",
       "      <td>NaN</td>\n",
       "      <td>NaN</td>\n",
       "      <td>...</td>\n",
       "      <td>NaN</td>\n",
       "      <td>NaN</td>\n",
       "      <td>IM-0755-0001</td>\n",
       "      <td>NaN</td>\n",
       "      <td>NaN</td>\n",
       "      <td>NaN</td>\n",
       "      <td>NaN</td>\n",
       "      <td>NaN</td>\n",
       "      <td>NaN</td>\n",
       "      <td>Kaggle</td>\n",
       "    </tr>\n",
       "    <tr>\n",
       "      <th>1681</th>\n",
       "      <td>94617</td>\n",
       "      <td>IM-0757</td>\n",
       "      <td>NaN</td>\n",
       "      <td>Unknown</td>\n",
       "      <td>Unknown</td>\n",
       "      <td>NaN</td>\n",
       "      <td>NON-COVID</td>\n",
       "      <td>NaN</td>\n",
       "      <td>NaN</td>\n",
       "      <td>NaN</td>\n",
       "      <td>...</td>\n",
       "      <td>NaN</td>\n",
       "      <td>NaN</td>\n",
       "      <td>IM-0757-0001</td>\n",
       "      <td>NaN</td>\n",
       "      <td>NaN</td>\n",
       "      <td>NaN</td>\n",
       "      <td>NaN</td>\n",
       "      <td>NaN</td>\n",
       "      <td>NaN</td>\n",
       "      <td>Kaggle</td>\n",
       "    </tr>\n",
       "    <tr>\n",
       "      <th>1682</th>\n",
       "      <td>94618</td>\n",
       "      <td>IM-0761</td>\n",
       "      <td>NaN</td>\n",
       "      <td>Unknown</td>\n",
       "      <td>Unknown</td>\n",
       "      <td>NaN</td>\n",
       "      <td>NON-COVID</td>\n",
       "      <td>NaN</td>\n",
       "      <td>NaN</td>\n",
       "      <td>NaN</td>\n",
       "      <td>...</td>\n",
       "      <td>NaN</td>\n",
       "      <td>NaN</td>\n",
       "      <td>IM-0761-0001</td>\n",
       "      <td>NaN</td>\n",
       "      <td>NaN</td>\n",
       "      <td>NaN</td>\n",
       "      <td>NaN</td>\n",
       "      <td>NaN</td>\n",
       "      <td>NaN</td>\n",
       "      <td>Kaggle</td>\n",
       "    </tr>\n",
       "    <tr>\n",
       "      <th>1683</th>\n",
       "      <td>94619</td>\n",
       "      <td>IM-0764</td>\n",
       "      <td>NaN</td>\n",
       "      <td>Unknown</td>\n",
       "      <td>Unknown</td>\n",
       "      <td>NaN</td>\n",
       "      <td>NON-COVID</td>\n",
       "      <td>NaN</td>\n",
       "      <td>NaN</td>\n",
       "      <td>NaN</td>\n",
       "      <td>...</td>\n",
       "      <td>NaN</td>\n",
       "      <td>NaN</td>\n",
       "      <td>IM-0764-0001</td>\n",
       "      <td>NaN</td>\n",
       "      <td>NaN</td>\n",
       "      <td>NaN</td>\n",
       "      <td>NaN</td>\n",
       "      <td>NaN</td>\n",
       "      <td>NaN</td>\n",
       "      <td>Kaggle</td>\n",
       "    </tr>\n",
       "    <tr>\n",
       "      <th>1684</th>\n",
       "      <td>94620</td>\n",
       "      <td>IM-0766</td>\n",
       "      <td>NaN</td>\n",
       "      <td>Unknown</td>\n",
       "      <td>Unknown</td>\n",
       "      <td>NaN</td>\n",
       "      <td>NON-COVID</td>\n",
       "      <td>NaN</td>\n",
       "      <td>NaN</td>\n",
       "      <td>NaN</td>\n",
       "      <td>...</td>\n",
       "      <td>NaN</td>\n",
       "      <td>NaN</td>\n",
       "      <td>IM-0766-0001</td>\n",
       "      <td>NaN</td>\n",
       "      <td>NaN</td>\n",
       "      <td>NaN</td>\n",
       "      <td>NaN</td>\n",
       "      <td>NaN</td>\n",
       "      <td>NaN</td>\n",
       "      <td>Kaggle</td>\n",
       "    </tr>\n",
       "  </tbody>\n",
       "</table>\n",
       "<p>5 rows × 32 columns</p>\n",
       "</div>"
      ],
      "text/plain": [
       "      Unnamed: 0 patientid  offset      sex      age finding Covid-Detection  \\\n",
       "1680       94616   IM-0755     NaN  Unknown  Unknown     NaN       NON-COVID   \n",
       "1681       94617   IM-0757     NaN  Unknown  Unknown     NaN       NON-COVID   \n",
       "1682       94618   IM-0761     NaN  Unknown  Unknown     NaN       NON-COVID   \n",
       "1683       94619   IM-0764     NaN  Unknown  Unknown     NaN       NON-COVID   \n",
       "1684       94620   IM-0766     NaN  Unknown  Unknown     NaN       NON-COVID   \n",
       "\n",
       "     survival intubated intubation_present  ... location folder      filename  \\\n",
       "1680      NaN       NaN                NaN  ...      NaN    NaN  IM-0755-0001   \n",
       "1681      NaN       NaN                NaN  ...      NaN    NaN  IM-0757-0001   \n",
       "1682      NaN       NaN                NaN  ...      NaN    NaN  IM-0761-0001   \n",
       "1683      NaN       NaN                NaN  ...      NaN    NaN  IM-0764-0001   \n",
       "1684      NaN       NaN                NaN  ...      NaN    NaN  IM-0766-0001   \n",
       "\n",
       "      doi  url  license  clinical_notes  other_notes  Unnamed: 29 data_ref  \n",
       "1680  NaN  NaN      NaN             NaN          NaN          NaN   Kaggle  \n",
       "1681  NaN  NaN      NaN             NaN          NaN          NaN   Kaggle  \n",
       "1682  NaN  NaN      NaN             NaN          NaN          NaN   Kaggle  \n",
       "1683  NaN  NaN      NaN             NaN          NaN          NaN   Kaggle  \n",
       "1684  NaN  NaN      NaN             NaN          NaN          NaN   Kaggle  \n",
       "\n",
       "[5 rows x 32 columns]"
      ]
     },
     "execution_count": 4,
     "metadata": {},
     "output_type": "execute_result"
    }
   ],
   "source": [
    "data.tail()"
   ]
  },
  {
   "cell_type": "code",
   "execution_count": 5,
   "id": "f8011cf7",
   "metadata": {},
   "outputs": [
    {
     "data": {
      "text/plain": [
       "(1685, 32)"
      ]
     },
     "execution_count": 5,
     "metadata": {},
     "output_type": "execute_result"
    }
   ],
   "source": [
    "data.shape"
   ]
  },
  {
   "cell_type": "code",
   "execution_count": 6,
   "id": "41e63adf",
   "metadata": {},
   "outputs": [
    {
     "name": "stdout",
     "output_type": "stream",
     "text": [
      "<class 'pandas.core.frame.DataFrame'>\n",
      "RangeIndex: 1685 entries, 0 to 1684\n",
      "Data columns (total 32 columns):\n",
      " #   Column                  Non-Null Count  Dtype  \n",
      "---  ------                  --------------  -----  \n",
      " 0   Unnamed: 0              1685 non-null   int64  \n",
      " 1   patientid               1685 non-null   object \n",
      " 2   offset                  660 non-null    float64\n",
      " 3   sex                     1622 non-null   object \n",
      " 4   age                     1455 non-null   object \n",
      " 5   finding                 866 non-null    object \n",
      " 6   Covid-Detection         1328 non-null   object \n",
      " 7   survival                341 non-null    object \n",
      " 8   intubated               225 non-null    object \n",
      " 9   intubation_present      227 non-null    object \n",
      " 10  went_icu                388 non-null    object \n",
      " 11  in_icu                  326 non-null    object \n",
      " 12  needed_supplemental_O2  86 non-null     object \n",
      " 13  extubated               37 non-null     object \n",
      " 14  temperature             74 non-null     float64\n",
      " 15  pO2_saturation          116 non-null    float64\n",
      " 16  leukocyte_count         15 non-null     float64\n",
      " 17  neutrophil_count        28 non-null     float64\n",
      " 18  lymphocyte_count        40 non-null     float64\n",
      " 19  view                    866 non-null    object \n",
      " 20  modality                1685 non-null   object \n",
      " 21  date                    617 non-null    object \n",
      " 22  location                810 non-null    object \n",
      " 23  folder                  866 non-null    object \n",
      " 24  filename                1685 non-null   object \n",
      " 25  doi                     369 non-null    object \n",
      " 26  url                     866 non-null    object \n",
      " 27  license                 631 non-null    object \n",
      " 28  clinical_notes          684 non-null    object \n",
      " 29  other_notes             405 non-null    object \n",
      " 30  Unnamed: 29             5 non-null      object \n",
      " 31  data_ref                1685 non-null   object \n",
      "dtypes: float64(6), int64(1), object(25)\n",
      "memory usage: 421.4+ KB\n"
     ]
    }
   ],
   "source": [
    "data.info()"
   ]
  },
  {
   "cell_type": "code",
   "execution_count": 7,
   "id": "b1fb37eb",
   "metadata": {},
   "outputs": [
    {
     "data": {
      "text/html": [
       "<div>\n",
       "<style scoped>\n",
       "    .dataframe tbody tr th:only-of-type {\n",
       "        vertical-align: middle;\n",
       "    }\n",
       "\n",
       "    .dataframe tbody tr th {\n",
       "        vertical-align: top;\n",
       "    }\n",
       "\n",
       "    .dataframe thead th {\n",
       "        text-align: right;\n",
       "    }\n",
       "</style>\n",
       "<table border=\"1\" class=\"dataframe\">\n",
       "  <thead>\n",
       "    <tr style=\"text-align: right;\">\n",
       "      <th></th>\n",
       "      <th>Unnamed: 0</th>\n",
       "      <th>offset</th>\n",
       "      <th>temperature</th>\n",
       "      <th>pO2_saturation</th>\n",
       "      <th>leukocyte_count</th>\n",
       "      <th>neutrophil_count</th>\n",
       "      <th>lymphocyte_count</th>\n",
       "    </tr>\n",
       "  </thead>\n",
       "  <tbody>\n",
       "    <tr>\n",
       "      <th>count</th>\n",
       "      <td>1685.000000</td>\n",
       "      <td>660.000000</td>\n",
       "      <td>74.000000</td>\n",
       "      <td>116.000000</td>\n",
       "      <td>15.000000</td>\n",
       "      <td>28.000000</td>\n",
       "      <td>40.000000</td>\n",
       "    </tr>\n",
       "    <tr>\n",
       "      <th>mean</th>\n",
       "      <td>29234.510979</td>\n",
       "      <td>9.092424</td>\n",
       "      <td>38.941892</td>\n",
       "      <td>78.255172</td>\n",
       "      <td>5.188000</td>\n",
       "      <td>5.307143</td>\n",
       "      <td>4.638050</td>\n",
       "    </tr>\n",
       "    <tr>\n",
       "      <th>std</th>\n",
       "      <td>43343.537812</td>\n",
       "      <td>32.479230</td>\n",
       "      <td>6.666909</td>\n",
       "      <td>39.170400</td>\n",
       "      <td>2.669077</td>\n",
       "      <td>3.489956</td>\n",
       "      <td>20.550033</td>\n",
       "    </tr>\n",
       "    <tr>\n",
       "      <th>min</th>\n",
       "      <td>0.000000</td>\n",
       "      <td>-360.000000</td>\n",
       "      <td>36.000000</td>\n",
       "      <td>20.000000</td>\n",
       "      <td>0.220000</td>\n",
       "      <td>0.000000</td>\n",
       "      <td>0.400000</td>\n",
       "    </tr>\n",
       "    <tr>\n",
       "      <th>25%</th>\n",
       "      <td>227.000000</td>\n",
       "      <td>1.000000</td>\n",
       "      <td>37.725000</td>\n",
       "      <td>55.000000</td>\n",
       "      <td>3.140000</td>\n",
       "      <td>2.725000</td>\n",
       "      <td>0.746500</td>\n",
       "    </tr>\n",
       "    <tr>\n",
       "      <th>50%</th>\n",
       "      <td>624.000000</td>\n",
       "      <td>5.000000</td>\n",
       "      <td>38.200000</td>\n",
       "      <td>85.000000</td>\n",
       "      <td>5.500000</td>\n",
       "      <td>4.800000</td>\n",
       "      <td>1.100000</td>\n",
       "    </tr>\n",
       "    <tr>\n",
       "      <th>75%</th>\n",
       "      <td>94199.000000</td>\n",
       "      <td>10.000000</td>\n",
       "      <td>39.000000</td>\n",
       "      <td>95.000000</td>\n",
       "      <td>6.875000</td>\n",
       "      <td>6.925000</td>\n",
       "      <td>1.600000</td>\n",
       "    </tr>\n",
       "    <tr>\n",
       "      <th>max</th>\n",
       "      <td>94620.000000</td>\n",
       "      <td>365.000000</td>\n",
       "      <td>95.000000</td>\n",
       "      <td>340.000000</td>\n",
       "      <td>11.200000</td>\n",
       "      <td>12.900000</td>\n",
       "      <td>131.000000</td>\n",
       "    </tr>\n",
       "  </tbody>\n",
       "</table>\n",
       "</div>"
      ],
      "text/plain": [
       "         Unnamed: 0      offset  temperature  pO2_saturation  leukocyte_count  \\\n",
       "count   1685.000000  660.000000    74.000000      116.000000        15.000000   \n",
       "mean   29234.510979    9.092424    38.941892       78.255172         5.188000   \n",
       "std    43343.537812   32.479230     6.666909       39.170400         2.669077   \n",
       "min        0.000000 -360.000000    36.000000       20.000000         0.220000   \n",
       "25%      227.000000    1.000000    37.725000       55.000000         3.140000   \n",
       "50%      624.000000    5.000000    38.200000       85.000000         5.500000   \n",
       "75%    94199.000000   10.000000    39.000000       95.000000         6.875000   \n",
       "max    94620.000000  365.000000    95.000000      340.000000        11.200000   \n",
       "\n",
       "       neutrophil_count  lymphocyte_count  \n",
       "count         28.000000         40.000000  \n",
       "mean           5.307143          4.638050  \n",
       "std            3.489956         20.550033  \n",
       "min            0.000000          0.400000  \n",
       "25%            2.725000          0.746500  \n",
       "50%            4.800000          1.100000  \n",
       "75%            6.925000          1.600000  \n",
       "max           12.900000        131.000000  "
      ]
     },
     "execution_count": 7,
     "metadata": {},
     "output_type": "execute_result"
    }
   ],
   "source": [
    "data.describe()"
   ]
  },
  {
   "cell_type": "code",
   "execution_count": 8,
   "id": "6461b7f4",
   "metadata": {},
   "outputs": [],
   "source": [
    "# creating a copy of the dataset\n",
    "data1=data"
   ]
  },
  {
   "cell_type": "code",
   "execution_count": 9,
   "id": "4c06c3cc",
   "metadata": {},
   "outputs": [
    {
     "name": "stdout",
     "output_type": "stream",
     "text": [
      "Numeric variables: 7\n",
      "Character variables: 25\n"
     ]
    }
   ],
   "source": [
    "# character and numeric variable count\n",
    "num=data.select_dtypes(include=['int64','float64']).columns\n",
    "char=data.select_dtypes(include=['object']).columns\n",
    "print(\"Numeric variables:\",len(num))\n",
    "print('Character variables:',len(char))"
   ]
  },
  {
   "cell_type": "code",
   "execution_count": 10,
   "id": "159b227f",
   "metadata": {},
   "outputs": [
    {
     "name": "stdout",
     "output_type": "stream",
     "text": [
      "Column name of numeric variables\n",
      "Index(['Unnamed: 0', 'offset', 'temperature', 'pO2_saturation',\n",
      "       'leukocyte_count', 'neutrophil_count', 'lymphocyte_count'],\n",
      "      dtype='object')\n",
      "*********************************\n",
      "Column name of character variables\n",
      "Index(['patientid', 'sex', 'age', 'finding', 'Covid-Detection', 'survival',\n",
      "       'intubated', 'intubation_present', 'went_icu', 'in_icu',\n",
      "       'needed_supplemental_O2', 'extubated', 'view', 'modality', 'date',\n",
      "       'location', 'folder', 'filename', 'doi', 'url', 'license',\n",
      "       'clinical_notes', 'other_notes', 'Unnamed: 29', 'data_ref'],\n",
      "      dtype='object')\n"
     ]
    }
   ],
   "source": [
    "print('Column name of numeric variables')\n",
    "print(num)\n",
    "print('*********************************')\n",
    "print('Column name of character variables')\n",
    "print(char)"
   ]
  },
  {
   "cell_type": "markdown",
   "id": "2d6c06f3",
   "metadata": {},
   "source": [
    "## Analyzing Covid-Detection"
   ]
  },
  {
   "cell_type": "code",
   "execution_count": 11,
   "id": "00ae3b5a",
   "metadata": {},
   "outputs": [
    {
     "data": {
      "text/plain": [
       "NON-COVID    532\n",
       "Y            315\n",
       "COVID-19     287\n",
       "Unclear      194\n",
       "Name: Covid-Detection, dtype: int64"
      ]
     },
     "execution_count": 11,
     "metadata": {},
     "output_type": "execute_result"
    }
   ],
   "source": [
    "data['Covid-Detection'].value_counts()"
   ]
  },
  {
   "cell_type": "code",
   "execution_count": 12,
   "id": "96d2443c",
   "metadata": {},
   "outputs": [
    {
     "data": {
      "text/plain": [
       "357"
      ]
     },
     "execution_count": 12,
     "metadata": {},
     "output_type": "execute_result"
    }
   ],
   "source": [
    "data['Covid-Detection'].isna().sum()"
   ]
  },
  {
   "cell_type": "markdown",
   "id": "fce292d6",
   "metadata": {},
   "source": [
    "### Converting y=which means having covid into COVID-19"
   ]
  },
  {
   "cell_type": "code",
   "execution_count": 13,
   "id": "13a3a13b",
   "metadata": {
    "scrolled": true
   },
   "outputs": [],
   "source": [
    "data['Covid-Detection'].replace('Y','COVID-19', inplace=True)"
   ]
  },
  {
   "cell_type": "code",
   "execution_count": 14,
   "id": "e1cdc791",
   "metadata": {},
   "outputs": [
    {
     "data": {
      "text/plain": [
       "COVID-19     602\n",
       "NON-COVID    532\n",
       "Unclear      194\n",
       "Name: Covid-Detection, dtype: int64"
      ]
     },
     "execution_count": 14,
     "metadata": {},
     "output_type": "execute_result"
    }
   ],
   "source": [
    "data['Covid-Detection'].value_counts()"
   ]
  },
  {
   "cell_type": "markdown",
   "id": "7dcc416f",
   "metadata": {},
   "source": [
    "### Graph for covid-detection"
   ]
  },
  {
   "cell_type": "code",
   "execution_count": 15,
   "id": "5ae27bf3",
   "metadata": {},
   "outputs": [
    {
     "data": {
      "image/png": "[encoded data removed]",
      "text/plain": [
       "<Figure size 720x576 with 1 Axes>"
      ]
     },
     "metadata": {
      "needs_background": "light"
     },
     "output_type": "display_data"
    }
   ],
   "source": [
    "plt.figure(figsize=(10,8))\n",
    "sns.countplot(x ='Covid-Detection', data = data)\n",
    " \n",
    "# Show the plot\n",
    "plt.show()"
   ]
  },
  {
   "cell_type": "markdown",
   "id": "262171fd",
   "metadata": {},
   "source": [
    "## Anlayzing Age\n",
    "\n",
    "* Since age is given as object we will analyze and convert it into numeric\n",
    "\n",
    "* Out of 2504 rows, 1192 rows has age = Unkown and 230 rows has NAN values, so we are left with 1082 rows that has age defined. \n",
    "\n",
    "* We will try to impute with the mode and see the if we get better performing model\n"
   ]
  },
  {
   "cell_type": "code",
   "execution_count": 16,
   "id": "a2ca323d",
   "metadata": {},
   "outputs": [
    {
     "data": {
      "text/plain": [
       "Unknown    596\n",
       "50.0        53\n",
       "70.0        50\n",
       "55.0        42\n",
       "30.0        39\n",
       "          ... \n",
       "87.0         2\n",
       "84.0         2\n",
       "82.0         2\n",
       "41.0         2\n",
       "88.0         2\n",
       "Name: age, Length: 69, dtype: int64"
      ]
     },
     "execution_count": 16,
     "metadata": {},
     "output_type": "execute_result"
    }
   ],
   "source": [
    "data['age'].value_counts()"
   ]
  },
  {
   "cell_type": "code",
   "execution_count": 17,
   "id": "b39fe6f8",
   "metadata": {},
   "outputs": [
    {
     "data": {
      "text/plain": [
       "230"
      ]
     },
     "execution_count": 17,
     "metadata": {},
     "output_type": "execute_result"
    }
   ],
   "source": [
    "data['age'].isna().sum()"
   ]
  },
  {
   "cell_type": "code",
   "execution_count": 18,
   "id": "91101efe",
   "metadata": {},
   "outputs": [],
   "source": [
    "data[data['age']=='Unknown']=None"
   ]
  },
  {
   "cell_type": "code",
   "execution_count": 19,
   "id": "2961bf60",
   "metadata": {},
   "outputs": [],
   "source": [
    "data['age'] = data['age'].astype(float, errors = 'raise')"
   ]
  },
  {
   "cell_type": "code",
   "execution_count": 20,
   "id": "46bb2411",
   "metadata": {},
   "outputs": [
    {
     "data": {
      "text/plain": [
       "50.0    53\n",
       "70.0    50\n",
       "55.0    42\n",
       "30.0    39\n",
       "45.0    38\n",
       "        ..\n",
       "90.0     2\n",
       "37.0     2\n",
       "41.0     2\n",
       "57.0     2\n",
       "82.0     2\n",
       "Name: age, Length: 68, dtype: int64"
      ]
     },
     "execution_count": 20,
     "metadata": {},
     "output_type": "execute_result"
    }
   ],
   "source": [
    "data['age'].value_counts()"
   ]
  },
  {
   "cell_type": "markdown",
   "id": "636adfa5",
   "metadata": {},
   "source": [
    "### Graph for Age"
   ]
  },
  {
   "cell_type": "code",
   "execution_count": 21,
   "id": "568f91e2",
   "metadata": {},
   "outputs": [
    {
     "data": {
      "text/plain": [
       "<AxesSubplot:>"
      ]
     },
     "execution_count": 21,
     "metadata": {},
     "output_type": "execute_result"
    },
    {
     "data": {
      "image/png": "[encoded data removed]",
      "text/plain": [
       "<Figure size 720x576 with 1 Axes>"
      ]
     },
     "metadata": {
      "needs_background": "light"
     },
     "output_type": "display_data"
    }
   ],
   "source": [
    "data['age'].hist(figsize=(10,8))"
   ]
  },
  {
   "cell_type": "markdown",
   "id": "786c45cd",
   "metadata": {},
   "source": [
    "### Categorizing the age in groups"
   ]
  },
  {
   "cell_type": "code",
   "execution_count": 22,
   "id": "55b9ed17",
   "metadata": {},
   "outputs": [
    {
     "name": "stdout",
     "output_type": "stream",
     "text": [
      "18.0\n",
      "94.0\n",
      "55.0\n",
      "0    50.0\n",
      "dtype: float64\n"
     ]
    }
   ],
   "source": [
    "print(data['age'].min())\n",
    "print(data['age'].max())\n",
    "print(data['age'].median())\n",
    "print(data['age'].mode())\n"
   ]
  },
  {
   "cell_type": "code",
   "execution_count": 23,
   "id": "65100d21",
   "metadata": {},
   "outputs": [],
   "source": [
    "bins= [0,40,60,100]\n",
    "labels = ['Young','Mid-Aged','Old-Aged']\n",
    "data['AgeGroup'] = pd.cut(data['age'], bins=bins, labels=labels, right=False)\n"
   ]
  },
  {
   "cell_type": "markdown",
   "id": "ea55998b",
   "metadata": {},
   "source": [
    "### Graph for Age after grouping"
   ]
  },
  {
   "cell_type": "code",
   "execution_count": 24,
   "id": "f4ec1ab6",
   "metadata": {},
   "outputs": [
    {
     "data": {
      "image/png": "[encoded data removed]",
      "text/plain": [
       "<Figure size 720x576 with 1 Axes>"
      ]
     },
     "metadata": {
      "needs_background": "light"
     },
     "output_type": "display_data"
    }
   ],
   "source": [
    "plt.figure(figsize=(10,8))\n",
    "sns.countplot(x ='AgeGroup', data = data)\n",
    " \n",
    "# Show the plot\n",
    "plt.show()"
   ]
  },
  {
   "cell_type": "markdown",
   "id": "d74d3c7c",
   "metadata": {},
   "source": [
    "## Analyzing Sex\n",
    "\n",
    "* Since the sex is given as object, we will be doing one-hot encoding on age\n",
    "* Out 2504 rows, sex of 1102 are Unknown and 63 of them have NAN values\n"
   ]
  },
  {
   "cell_type": "code",
   "execution_count": 25,
   "id": "1263a75f",
   "metadata": {},
   "outputs": [
    {
     "data": {
      "text/plain": [
       "M          654\n",
       "F          363\n",
       "Unknown      9\n",
       "Name: sex, dtype: int64"
      ]
     },
     "execution_count": 25,
     "metadata": {},
     "output_type": "execute_result"
    }
   ],
   "source": [
    "data['sex'].value_counts()"
   ]
  },
  {
   "cell_type": "code",
   "execution_count": 26,
   "id": "4bd28a30",
   "metadata": {},
   "outputs": [
    {
     "data": {
      "text/plain": [
       "659"
      ]
     },
     "execution_count": 26,
     "metadata": {},
     "output_type": "execute_result"
    }
   ],
   "source": [
    "data['sex'].isna().sum()"
   ]
  },
  {
   "cell_type": "code",
   "execution_count": 27,
   "id": "20e3b2d9",
   "metadata": {},
   "outputs": [
    {
     "data": {
      "text/plain": [
       "363"
      ]
     },
     "execution_count": 27,
     "metadata": {},
     "output_type": "execute_result"
    }
   ],
   "source": [
    "len(data[data['sex']=='F'])"
   ]
  },
  {
   "cell_type": "code",
   "execution_count": 28,
   "id": "123a92b4",
   "metadata": {},
   "outputs": [],
   "source": [
    "data['sex'].replace(['Unknown','M', 'F'], [2, 1, 0], inplace=True)"
   ]
  },
  {
   "cell_type": "code",
   "execution_count": 29,
   "id": "48a7a3c4",
   "metadata": {},
   "outputs": [
    {
     "data": {
      "text/plain": [
       "363"
      ]
     },
     "execution_count": 29,
     "metadata": {},
     "output_type": "execute_result"
    }
   ],
   "source": [
    "len(data[data['sex']==0])"
   ]
  },
  {
   "cell_type": "markdown",
   "id": "d578d318",
   "metadata": {},
   "source": [
    "### Graph for Sex"
   ]
  },
  {
   "cell_type": "code",
   "execution_count": 30,
   "id": "689105bb",
   "metadata": {},
   "outputs": [
    {
     "name": "stdout",
     "output_type": "stream",
     "text": [
      "1.0    654\n",
      "0.0    363\n",
      "2.0      9\n",
      "Name: sex, dtype: int64\n"
     ]
    },
    {
     "data": {
      "image/png": "[encoded data removed]",
      "text/plain": [
       "<Figure size 720x576 with 1 Axes>"
      ]
     },
     "metadata": {
      "needs_background": "light"
     },
     "output_type": "display_data"
    }
   ],
   "source": [
    "print(data['sex'].value_counts())\n",
    "plt.figure(figsize=(10,8))\n",
    "sns.countplot(x ='sex', data = data)\n",
    " \n",
    "# Show the plot\n",
    "plt.show()"
   ]
  },
  {
   "cell_type": "markdown",
   "id": "8d38723f",
   "metadata": {},
   "source": [
    "# EDA for remaining variables"
   ]
  },
  {
   "cell_type": "markdown",
   "id": "adb9b8c3",
   "metadata": {},
   "source": [
    "### Graph for went_icu"
   ]
  },
  {
   "cell_type": "code",
   "execution_count": 31,
   "id": "0515dd8e",
   "metadata": {},
   "outputs": [
    {
     "name": "stdout",
     "output_type": "stream",
     "text": [
      "Y    277\n",
      "N    111\n",
      "Name: went_icu, dtype: int64\n"
     ]
    },
    {
     "data": {
      "image/png": "[encoded data removed]",
      "text/plain": [
       "<Figure size 720x576 with 1 Axes>"
      ]
     },
     "metadata": {
      "needs_background": "light"
     },
     "output_type": "display_data"
    }
   ],
   "source": [
    "print(data['went_icu'].value_counts())\n",
    "plt.figure(figsize=(10,8))\n",
    "sns.countplot(x ='went_icu', data = data)\n",
    " \n",
    "# Show the plot\n",
    "plt.show()"
   ]
  },
  {
   "cell_type": "markdown",
   "id": "6251ac52",
   "metadata": {},
   "source": [
    "### Graph for survival"
   ]
  },
  {
   "cell_type": "code",
   "execution_count": 32,
   "id": "4ae24945",
   "metadata": {},
   "outputs": [
    {
     "name": "stdout",
     "output_type": "stream",
     "text": [
      "Y    265\n",
      "N     76\n",
      "Name: survival, dtype: int64\n"
     ]
    },
    {
     "data": {
      "image/png": "[encoded data removed]",
      "text/plain": [
       "<Figure size 720x576 with 1 Axes>"
      ]
     },
     "metadata": {
      "needs_background": "light"
     },
     "output_type": "display_data"
    }
   ],
   "source": [
    "print(data['survival'].value_counts())\n",
    "plt.figure(figsize=(10,8))\n",
    "sns.countplot(x ='survival', data = data)\n",
    " \n",
    "# Show the plot\n",
    "plt.show()"
   ]
  },
  {
   "cell_type": "markdown",
   "id": "b2044ae9",
   "metadata": {},
   "source": [
    "### Graph for survival"
   ]
  },
  {
   "cell_type": "code",
   "execution_count": 33,
   "id": "054245f3",
   "metadata": {},
   "outputs": [
    {
     "name": "stdout",
     "output_type": "stream",
     "text": [
      "Y    265\n",
      "N     76\n",
      "Name: survival, dtype: int64\n"
     ]
    },
    {
     "data": {
      "image/png": "[encoded data removed]",
      "text/plain": [
       "<Figure size 720x576 with 1 Axes>"
      ]
     },
     "metadata": {
      "needs_background": "light"
     },
     "output_type": "display_data"
    }
   ],
   "source": [
    "print(data['survival'].value_counts())\n",
    "plt.figure(figsize=(10,8))\n",
    "sns.countplot(x ='survival', data = data)\n",
    " \n",
    "# Show the plot\n",
    "plt.show()"
   ]
  },
  {
   "cell_type": "markdown",
   "id": "096200c1",
   "metadata": {},
   "source": [
    "### Graph for view\n",
    "\n"
   ]
  },
  {
   "cell_type": "code",
   "execution_count": 34,
   "id": "6954707a",
   "metadata": {},
   "outputs": [
    {
     "name": "stdout",
     "output_type": "stream",
     "text": [
      "PA           344\n",
      "AP Supine    234\n",
      "AP           203\n",
      "L             84\n",
      "AP Erect       1\n",
      "Name: view, dtype: int64\n"
     ]
    },
    {
     "data": {
      "image/png": "[encoded data removed]",
      "text/plain": [
       "<Figure size 1440x576 with 1 Axes>"
      ]
     },
     "metadata": {
      "needs_background": "light"
     },
     "output_type": "display_data"
    }
   ],
   "source": [
    "print(data['view'].value_counts())\n",
    "plt.figure(figsize=(20,8))\n",
    "sns.countplot(x ='view', data = data)\n",
    "plt.xticks(rotation=45) \n",
    "# Show the plot\n",
    "plt.show()"
   ]
  },
  {
   "cell_type": "code",
   "execution_count": 35,
   "id": "7fa79e19",
   "metadata": {},
   "outputs": [],
   "source": [
    "data['view'].replace(['AP Supine','AP Erect'], ['AP','AP'], inplace=True)"
   ]
  },
  {
   "cell_type": "code",
   "execution_count": 36,
   "id": "6b980811",
   "metadata": {},
   "outputs": [
    {
     "name": "stdout",
     "output_type": "stream",
     "text": [
      "AP    438\n",
      "PA    344\n",
      "L      84\n",
      "Name: view, dtype: int64\n"
     ]
    },
    {
     "data": {
      "image/png": "[encoded data removed]",
      "text/plain": [
       "<Figure size 720x576 with 1 Axes>"
      ]
     },
     "metadata": {
      "needs_background": "light"
     },
     "output_type": "display_data"
    }
   ],
   "source": [
    "print(data['view'].value_counts())\n",
    "plt.figure(figsize=(10,8))\n",
    "sns.countplot(x ='view', data = data)\n",
    " \n",
    "# Show the plot\n",
    "plt.show()"
   ]
  },
  {
   "cell_type": "markdown",
   "id": "84fa7131",
   "metadata": {},
   "source": [
    "### Graph for intubated\n",
    "\n",
    "* The primary purposes of intubation include: opening up the airway to give oxygen, anesthetic, or medicine. removing blockages. helping a person breathe if they have collapsed lungs, heart failure, or trauma."
   ]
  },
  {
   "cell_type": "code",
   "execution_count": 37,
   "id": "f9c4f9ef",
   "metadata": {},
   "outputs": [
    {
     "name": "stdout",
     "output_type": "stream",
     "text": [
      "Y    130\n",
      "N     95\n",
      "Name: intubated, dtype: int64\n"
     ]
    },
    {
     "data": {
      "image/png": "[encoded data removed]",
      "text/plain": [
       "<Figure size 720x576 with 1 Axes>"
      ]
     },
     "metadata": {
      "needs_background": "light"
     },
     "output_type": "display_data"
    }
   ],
   "source": [
    "print(data['intubated'].value_counts())\n",
    "plt.figure(figsize=(10,8))\n",
    "sns.countplot(x ='intubated', data = data)\n",
    " \n",
    "# Show the plot\n",
    "plt.show()"
   ]
  },
  {
   "cell_type": "markdown",
   "id": "f05fb1a2",
   "metadata": {},
   "source": [
    "### Analyzing temperature"
   ]
  },
  {
   "cell_type": "code",
   "execution_count": 47,
   "id": "215a8851",
   "metadata": {},
   "outputs": [
    {
     "data": {
      "image/png": "[encoded data removed]",
      "text/plain": [
       "<Figure size 1080x576 with 1 Axes>"
      ]
     },
     "metadata": {
      "needs_background": "light"
     },
     "output_type": "display_data"
    }
   ],
   "source": [
    "plt.figure(figsize=(15,8))\n",
    "sns.histplot(data=data, x=\"temperature\")\n",
    "plt.show()"
   ]
  },
  {
   "cell_type": "markdown",
   "id": "12ff9336",
   "metadata": {},
   "source": [
    "### Analyze Clinical notes\n",
    "\n",
    "* Try to analyze clinical notes & we will see if we can do some NLP text mining\n",
    "* There are 1000 clinical notes given"
   ]
  },
  {
   "cell_type": "code",
   "execution_count": 58,
   "id": "40f67905",
   "metadata": {},
   "outputs": [
    {
     "data": {
      "text/plain": [
       "'On January 22, 2020, a 65-year-old man with a history of hypertension, type 2 diabetes, coronary heart disease for which a stent had been implanted, and lung cancer was admitted to the emergency department of Cho Ray Hospital, the referral hospital in Ho Chi Minh City, for low-grade fever and fatigue. He had become ill with fever on January 17, a total of 4 days after he and his wife had flown to Hanoi from the Wuchang district in Wuhan, where outbreaks of 2019-nCoV were occurring. He reported that he had not been exposed to a “wet market” (a market where dead and live animals are sold) in Wuhan. Chest radiographs obtained on admission showed an infiltrate in the upper lobe of the left lung'"
      ]
     },
     "execution_count": 58,
     "metadata": {},
     "output_type": "execute_result"
    }
   ],
   "source": [
    "data['clinical_notes'][0]"
   ]
  },
  {
   "cell_type": "markdown",
   "id": "d636458a",
   "metadata": {},
   "source": [
    "### Analyze finding"
   ]
  },
  {
   "cell_type": "code",
   "execution_count": 63,
   "id": "64cc8bb1",
   "metadata": {},
   "outputs": [
    {
     "data": {
      "text/plain": [
       "Pneumonia/Viral/COVID-19                   504\n",
       "todo                                        83\n",
       "Pneumonia                                   81\n",
       "Pneumonia/Fungal/Pneumocystis               30\n",
       "Pneumonia/Bacterial/Streptococcus           22\n",
       "Tuberculosis                                18\n",
       "No Finding                                  18\n",
       "Pneumonia/Viral/SARS                        16\n",
       "Pneumonia/Lipoid                            13\n",
       "Pneumonia/Bacterial/Mycoplasma              11\n",
       "Pneumonia/Bacterial/Legionella              10\n",
       "Pneumonia/Viral/MERS-CoV                    10\n",
       "Pneumonia/Bacterial/Klebsiella              10\n",
       "Pneumonia/Bacterial/Nocardia                 8\n",
       "Pneumonia/Viral/Varicella                    6\n",
       "Pneumonia/Viral/Influenza                    5\n",
       "Pneumonia/Bacterial                          4\n",
       "Pneumonia/Bacterial/E.Coli                   4\n",
       "Pneumonia/Viral/Herpes                       3\n",
       "Pneumonia/Bacterial/Chlamydophila            3\n",
       "Pneumonia/Fungal/Aspergillosis               2\n",
       "Pneumonia/Viral/Influenza/H1N1               2\n",
       "Pneumonia/Aspiration                         1\n",
       "Pneumonia/Bacterial/Staphylococcus/MRSA      1\n",
       "Unknown                                      1\n",
       "Name: finding, dtype: int64"
      ]
     },
     "execution_count": 63,
     "metadata": {},
     "output_type": "execute_result"
    }
   ],
   "source": [
    "data['finding'].value_counts()"
   ]
  }
 ],
 "metadata": {
  "kernelspec": {
   "display_name": "Python 3",
   "language": "python",
   "name": "python3"
  },
  "language_info": {
   "codemirror_mode": {
    "name": "ipython",
    "version": 3
   },
   "file_extension": ".py",
   "mimetype": "text/x-python",
   "name": "python",
   "nbconvert_exporter": "python",
   "pygments_lexer": "ipython3",
   "version": "3.8.8"
  }
 },
 "nbformat": 4,
 "nbformat_minor": 5
}
