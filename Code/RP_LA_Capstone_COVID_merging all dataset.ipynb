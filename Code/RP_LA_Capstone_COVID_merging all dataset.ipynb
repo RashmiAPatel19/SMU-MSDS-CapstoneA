{
 "cells": [
  {
   "cell_type": "markdown",
   "id": "f1239bd4",
   "metadata": {},
   "source": [
    "# SMU MSDS Capstone Project\n",
    "\n",
    "## COVID analysis using Chest X-ray"
   ]
  },
  {
   "cell_type": "code",
   "execution_count": 1,
   "id": "ec8f528d",
   "metadata": {},
   "outputs": [],
   "source": [
    "#import reuqired libraries\n",
    "import pandas as pd\n",
    "import numpy as np\n",
    "import matplotlib.pyplot as plt\n",
    "import seaborn as sns"
   ]
  },
  {
   "cell_type": "code",
   "execution_count": 2,
   "id": "6bb6571c",
   "metadata": {},
   "outputs": [
    {
     "data": {
      "text/html": [
       "<div>\n",
       "<style scoped>\n",
       "    .dataframe tbody tr th:only-of-type {\n",
       "        vertical-align: middle;\n",
       "    }\n",
       "\n",
       "    .dataframe tbody tr th {\n",
       "        vertical-align: top;\n",
       "    }\n",
       "\n",
       "    .dataframe thead th {\n",
       "        text-align: right;\n",
       "    }\n",
       "</style>\n",
       "<table border=\"1\" class=\"dataframe\">\n",
       "  <thead>\n",
       "    <tr style=\"text-align: right;\">\n",
       "      <th></th>\n",
       "      <th>patientid</th>\n",
       "      <th>offset</th>\n",
       "      <th>sex</th>\n",
       "      <th>age</th>\n",
       "      <th>finding</th>\n",
       "      <th>RT_PCR_positive</th>\n",
       "      <th>survival</th>\n",
       "      <th>intubated</th>\n",
       "      <th>intubation_present</th>\n",
       "      <th>went_icu</th>\n",
       "      <th>...</th>\n",
       "      <th>date</th>\n",
       "      <th>location</th>\n",
       "      <th>folder</th>\n",
       "      <th>filename</th>\n",
       "      <th>doi</th>\n",
       "      <th>url</th>\n",
       "      <th>license</th>\n",
       "      <th>clinical_notes</th>\n",
       "      <th>other_notes</th>\n",
       "      <th>Unnamed: 29</th>\n",
       "    </tr>\n",
       "  </thead>\n",
       "  <tbody>\n",
       "    <tr>\n",
       "      <th>0</th>\n",
       "      <td>2</td>\n",
       "      <td>0.0</td>\n",
       "      <td>M</td>\n",
       "      <td>65.0</td>\n",
       "      <td>Pneumonia/Viral/COVID-19</td>\n",
       "      <td>Y</td>\n",
       "      <td>Y</td>\n",
       "      <td>N</td>\n",
       "      <td>N</td>\n",
       "      <td>N</td>\n",
       "      <td>...</td>\n",
       "      <td>January 22, 2020</td>\n",
       "      <td>Cho Ray Hospital, Ho Chi Minh City, Vietnam</td>\n",
       "      <td>images</td>\n",
       "      <td>auntminnie-a-2020_01_28_23_51_6665_2020_01_28_...</td>\n",
       "      <td>10.1056/nejmc2001272</td>\n",
       "      <td>https://www.nejm.org/doi/full/10.1056/NEJMc200...</td>\n",
       "      <td>NaN</td>\n",
       "      <td>On January 22, 2020, a 65-year-old man with a ...</td>\n",
       "      <td>NaN</td>\n",
       "      <td>NaN</td>\n",
       "    </tr>\n",
       "    <tr>\n",
       "      <th>1</th>\n",
       "      <td>2</td>\n",
       "      <td>3.0</td>\n",
       "      <td>M</td>\n",
       "      <td>65.0</td>\n",
       "      <td>Pneumonia/Viral/COVID-19</td>\n",
       "      <td>Y</td>\n",
       "      <td>Y</td>\n",
       "      <td>N</td>\n",
       "      <td>N</td>\n",
       "      <td>N</td>\n",
       "      <td>...</td>\n",
       "      <td>January 25, 2020</td>\n",
       "      <td>Cho Ray Hospital, Ho Chi Minh City, Vietnam</td>\n",
       "      <td>images</td>\n",
       "      <td>auntminnie-b-2020_01_28_23_51_6665_2020_01_28_...</td>\n",
       "      <td>10.1056/nejmc2001272</td>\n",
       "      <td>https://www.nejm.org/doi/full/10.1056/NEJMc200...</td>\n",
       "      <td>NaN</td>\n",
       "      <td>On January 22, 2020, a 65-year-old man with a ...</td>\n",
       "      <td>NaN</td>\n",
       "      <td>NaN</td>\n",
       "    </tr>\n",
       "    <tr>\n",
       "      <th>2</th>\n",
       "      <td>2</td>\n",
       "      <td>5.0</td>\n",
       "      <td>M</td>\n",
       "      <td>65.0</td>\n",
       "      <td>Pneumonia/Viral/COVID-19</td>\n",
       "      <td>Y</td>\n",
       "      <td>Y</td>\n",
       "      <td>N</td>\n",
       "      <td>N</td>\n",
       "      <td>N</td>\n",
       "      <td>...</td>\n",
       "      <td>January 27, 2020</td>\n",
       "      <td>Cho Ray Hospital, Ho Chi Minh City, Vietnam</td>\n",
       "      <td>images</td>\n",
       "      <td>auntminnie-c-2020_01_28_23_51_6665_2020_01_28_...</td>\n",
       "      <td>10.1056/nejmc2001272</td>\n",
       "      <td>https://www.nejm.org/doi/full/10.1056/NEJMc200...</td>\n",
       "      <td>NaN</td>\n",
       "      <td>On January 22, 2020, a 65-year-old man with a ...</td>\n",
       "      <td>NaN</td>\n",
       "      <td>NaN</td>\n",
       "    </tr>\n",
       "    <tr>\n",
       "      <th>3</th>\n",
       "      <td>2</td>\n",
       "      <td>6.0</td>\n",
       "      <td>M</td>\n",
       "      <td>65.0</td>\n",
       "      <td>Pneumonia/Viral/COVID-19</td>\n",
       "      <td>Y</td>\n",
       "      <td>Y</td>\n",
       "      <td>N</td>\n",
       "      <td>N</td>\n",
       "      <td>N</td>\n",
       "      <td>...</td>\n",
       "      <td>January 28, 2020</td>\n",
       "      <td>Cho Ray Hospital, Ho Chi Minh City, Vietnam</td>\n",
       "      <td>images</td>\n",
       "      <td>auntminnie-d-2020_01_28_23_51_6665_2020_01_28_...</td>\n",
       "      <td>10.1056/nejmc2001272</td>\n",
       "      <td>https://www.nejm.org/doi/full/10.1056/NEJMc200...</td>\n",
       "      <td>NaN</td>\n",
       "      <td>On January 22, 2020, a 65-year-old man with a ...</td>\n",
       "      <td>NaN</td>\n",
       "      <td>NaN</td>\n",
       "    </tr>\n",
       "    <tr>\n",
       "      <th>4</th>\n",
       "      <td>4</td>\n",
       "      <td>0.0</td>\n",
       "      <td>F</td>\n",
       "      <td>52.0</td>\n",
       "      <td>Pneumonia/Viral/COVID-19</td>\n",
       "      <td>Y</td>\n",
       "      <td>NaN</td>\n",
       "      <td>N</td>\n",
       "      <td>N</td>\n",
       "      <td>N</td>\n",
       "      <td>...</td>\n",
       "      <td>January 25, 2020</td>\n",
       "      <td>Changhua Christian Hospital, Changhua City, Ta...</td>\n",
       "      <td>images</td>\n",
       "      <td>nejmc2001573_f1a.jpeg</td>\n",
       "      <td>10.1056/NEJMc2001573</td>\n",
       "      <td>https://www.nejm.org/doi/full/10.1056/NEJMc200...</td>\n",
       "      <td>NaN</td>\n",
       "      <td>diffuse infiltrates in the bilateral lower lungs</td>\n",
       "      <td>NaN</td>\n",
       "      <td>NaN</td>\n",
       "    </tr>\n",
       "  </tbody>\n",
       "</table>\n",
       "<p>5 rows × 30 columns</p>\n",
       "</div>"
      ],
      "text/plain": [
       "  patientid  offset sex   age                   finding RT_PCR_positive  \\\n",
       "0         2     0.0   M  65.0  Pneumonia/Viral/COVID-19               Y   \n",
       "1         2     3.0   M  65.0  Pneumonia/Viral/COVID-19               Y   \n",
       "2         2     5.0   M  65.0  Pneumonia/Viral/COVID-19               Y   \n",
       "3         2     6.0   M  65.0  Pneumonia/Viral/COVID-19               Y   \n",
       "4         4     0.0   F  52.0  Pneumonia/Viral/COVID-19               Y   \n",
       "\n",
       "  survival intubated intubation_present went_icu  ...              date  \\\n",
       "0        Y         N                  N        N  ...  January 22, 2020   \n",
       "1        Y         N                  N        N  ...  January 25, 2020   \n",
       "2        Y         N                  N        N  ...  January 27, 2020   \n",
       "3        Y         N                  N        N  ...  January 28, 2020   \n",
       "4      NaN         N                  N        N  ...  January 25, 2020   \n",
       "\n",
       "                                            location  folder  \\\n",
       "0        Cho Ray Hospital, Ho Chi Minh City, Vietnam  images   \n",
       "1        Cho Ray Hospital, Ho Chi Minh City, Vietnam  images   \n",
       "2        Cho Ray Hospital, Ho Chi Minh City, Vietnam  images   \n",
       "3        Cho Ray Hospital, Ho Chi Minh City, Vietnam  images   \n",
       "4  Changhua Christian Hospital, Changhua City, Ta...  images   \n",
       "\n",
       "                                            filename                   doi  \\\n",
       "0  auntminnie-a-2020_01_28_23_51_6665_2020_01_28_...  10.1056/nejmc2001272   \n",
       "1  auntminnie-b-2020_01_28_23_51_6665_2020_01_28_...  10.1056/nejmc2001272   \n",
       "2  auntminnie-c-2020_01_28_23_51_6665_2020_01_28_...  10.1056/nejmc2001272   \n",
       "3  auntminnie-d-2020_01_28_23_51_6665_2020_01_28_...  10.1056/nejmc2001272   \n",
       "4                              nejmc2001573_f1a.jpeg  10.1056/NEJMc2001573   \n",
       "\n",
       "                                                 url  license  \\\n",
       "0  https://www.nejm.org/doi/full/10.1056/NEJMc200...      NaN   \n",
       "1  https://www.nejm.org/doi/full/10.1056/NEJMc200...      NaN   \n",
       "2  https://www.nejm.org/doi/full/10.1056/NEJMc200...      NaN   \n",
       "3  https://www.nejm.org/doi/full/10.1056/NEJMc200...      NaN   \n",
       "4  https://www.nejm.org/doi/full/10.1056/NEJMc200...      NaN   \n",
       "\n",
       "                                      clinical_notes other_notes Unnamed: 29  \n",
       "0  On January 22, 2020, a 65-year-old man with a ...         NaN         NaN  \n",
       "1  On January 22, 2020, a 65-year-old man with a ...         NaN         NaN  \n",
       "2  On January 22, 2020, a 65-year-old man with a ...         NaN         NaN  \n",
       "3  On January 22, 2020, a 65-year-old man with a ...         NaN         NaN  \n",
       "4   diffuse infiltrates in the bilateral lower lungs         NaN         NaN  \n",
       "\n",
       "[5 rows x 30 columns]"
      ]
     },
     "execution_count": 2,
     "metadata": {},
     "output_type": "execute_result"
    }
   ],
   "source": [
    "data1=pd.read_csv('https://raw.githubusercontent.com/ieee8023/covid-chestxray-dataset/master/metadata.csv')\n",
    "data1.head()"
   ]
  },
  {
   "cell_type": "code",
   "execution_count": 3,
   "id": "6a04ece7",
   "metadata": {},
   "outputs": [
    {
     "data": {
      "text/html": [
       "<div>\n",
       "<style scoped>\n",
       "    .dataframe tbody tr th:only-of-type {\n",
       "        vertical-align: middle;\n",
       "    }\n",
       "\n",
       "    .dataframe tbody tr th {\n",
       "        vertical-align: top;\n",
       "    }\n",
       "\n",
       "    .dataframe thead th {\n",
       "        text-align: right;\n",
       "    }\n",
       "</style>\n",
       "<table border=\"1\" class=\"dataframe\">\n",
       "  <thead>\n",
       "    <tr style=\"text-align: right;\">\n",
       "      <th></th>\n",
       "      <th>patientid</th>\n",
       "      <th>sex</th>\n",
       "      <th>age</th>\n",
       "      <th>finding</th>\n",
       "      <th>modality</th>\n",
       "      <th>filename</th>\n",
       "    </tr>\n",
       "  </thead>\n",
       "  <tbody>\n",
       "    <tr>\n",
       "      <th>0</th>\n",
       "      <td>PID_2</td>\n",
       "      <td>M</td>\n",
       "      <td>65.0</td>\n",
       "      <td>COVID-19</td>\n",
       "      <td>X-ray</td>\n",
       "      <td>PID_2_auntminnie-a-2020_01_28_23_51_6665_2020_...</td>\n",
       "    </tr>\n",
       "    <tr>\n",
       "      <th>1</th>\n",
       "      <td>PID_4</td>\n",
       "      <td>F</td>\n",
       "      <td>52.0</td>\n",
       "      <td>COVID-19</td>\n",
       "      <td>X-ray</td>\n",
       "      <td>PID_4_nejmc2001573_f1a</td>\n",
       "    </tr>\n",
       "    <tr>\n",
       "      <th>2</th>\n",
       "      <td>PID_6</td>\n",
       "      <td>Unknown</td>\n",
       "      <td>Unknown</td>\n",
       "      <td>COVID-19</td>\n",
       "      <td>X-ray</td>\n",
       "      <td>PID_6_lancet-case2a</td>\n",
       "    </tr>\n",
       "    <tr>\n",
       "      <th>3</th>\n",
       "      <td>PID_11</td>\n",
       "      <td>M</td>\n",
       "      <td>56.0</td>\n",
       "      <td>COVID-19</td>\n",
       "      <td>X-ray</td>\n",
       "      <td>PID_11_1-s2.0-S0140673620303706-fx1_lrg</td>\n",
       "    </tr>\n",
       "    <tr>\n",
       "      <th>4</th>\n",
       "      <td>PID_12</td>\n",
       "      <td>M</td>\n",
       "      <td>42.0</td>\n",
       "      <td>COVID-19</td>\n",
       "      <td>X-ray</td>\n",
       "      <td>PID_12_nCoV-radiol.2020200269.fig1-day7</td>\n",
       "    </tr>\n",
       "  </tbody>\n",
       "</table>\n",
       "</div>"
      ],
      "text/plain": [
       "  patientid      sex      age   finding modality  \\\n",
       "0     PID_2        M     65.0  COVID-19    X-ray   \n",
       "1     PID_4        F     52.0  COVID-19    X-ray   \n",
       "2     PID_6  Unknown  Unknown  COVID-19    X-ray   \n",
       "3    PID_11        M     56.0  COVID-19    X-ray   \n",
       "4    PID_12        M     42.0  COVID-19    X-ray   \n",
       "\n",
       "                                            filename  \n",
       "0  PID_2_auntminnie-a-2020_01_28_23_51_6665_2020_...  \n",
       "1                             PID_4_nejmc2001573_f1a  \n",
       "2                                PID_6_lancet-case2a  \n",
       "3            PID_11_1-s2.0-S0140673620303706-fx1_lrg  \n",
       "4            PID_12_nCoV-radiol.2020200269.fig1-day7  "
      ]
     },
     "execution_count": 3,
     "metadata": {},
     "output_type": "execute_result"
    }
   ],
   "source": [
    "data2=pd.read_csv('https://raw.githubusercontent.com/RashmiAPatel19/SMU-MSDS-CapstoneA/main/Data/metadata.csv')\n",
    "data2.head()"
   ]
  },
  {
   "cell_type": "code",
   "execution_count": 4,
   "id": "46d8c61b",
   "metadata": {},
   "outputs": [],
   "source": [
    "# data3=pd.read_csv('https://raw.githubusercontent.com/RashmiAPatel19/SMU-MSDS-CapstoneA/main/Data/MIDRC-RICORD-meta.csv')\n",
    "# data3.head()"
   ]
  },
  {
   "cell_type": "code",
   "execution_count": 5,
   "id": "a225bea0",
   "metadata": {},
   "outputs": [],
   "source": [
    "# data3['Description'].value_counts()"
   ]
  },
  {
   "cell_type": "code",
   "execution_count": 6,
   "id": "12bccf64",
   "metadata": {},
   "outputs": [],
   "source": [
    "# data3['ImageCount'].value_counts()"
   ]
  },
  {
   "cell_type": "code",
   "execution_count": 7,
   "id": "22cd620d",
   "metadata": {},
   "outputs": [],
   "source": [
    "# data1['view'].value_counts()"
   ]
  },
  {
   "cell_type": "code",
   "execution_count": 8,
   "id": "62f7715c",
   "metadata": {},
   "outputs": [],
   "source": [
    "# data3.rename({'Description':'view'},axis=1,inplace=True)\n",
    "# data3.columns"
   ]
  },
  {
   "cell_type": "code",
   "execution_count": 9,
   "id": "ae3e817d",
   "metadata": {},
   "outputs": [],
   "source": [
    "# data3.rename({'Age':'age'},axis=1,inplace=True)\n",
    "# data3.columns"
   ]
  },
  {
   "cell_type": "code",
   "execution_count": 10,
   "id": "81eb517c",
   "metadata": {},
   "outputs": [],
   "source": [
    "# data3.rename({'Gender':'sex'},axis=1,inplace=True)\n",
    "# data3.columns"
   ]
  },
  {
   "cell_type": "code",
   "execution_count": 11,
   "id": "acd86f44",
   "metadata": {},
   "outputs": [],
   "source": [
    "# data3.rename({'Result':'Covid-Detection'},axis=1,inplace=True)\n",
    "# data3.columns"
   ]
  },
  {
   "cell_type": "code",
   "execution_count": 12,
   "id": "4a2f4f45",
   "metadata": {},
   "outputs": [],
   "source": [
    "# data3.rename({'fname':'filename'},axis=1,inplace=True)\n",
    "# data3.columns"
   ]
  },
  {
   "cell_type": "code",
   "execution_count": 13,
   "id": "36dbe7dd",
   "metadata": {},
   "outputs": [],
   "source": [
    "# adding modality column to data3 because data1 and data2 have it\n",
    "# data3['modality']='X-ray'"
   ]
  },
  {
   "cell_type": "code",
   "execution_count": 14,
   "id": "dcc6b6e5",
   "metadata": {},
   "outputs": [],
   "source": [
    "# data3['modality']"
   ]
  },
  {
   "cell_type": "code",
   "execution_count": 15,
   "id": "98fd0386",
   "metadata": {},
   "outputs": [
    {
     "data": {
      "text/plain": [
       "(950, 31)"
      ]
     },
     "execution_count": 15,
     "metadata": {},
     "output_type": "execute_result"
    }
   ],
   "source": [
    "data1['data_ref']='IEEE'\n",
    "data1.shape"
   ]
  },
  {
   "cell_type": "code",
   "execution_count": 16,
   "id": "4cfd2757",
   "metadata": {},
   "outputs": [
    {
     "data": {
      "text/plain": [
       "(94621, 7)"
      ]
     },
     "execution_count": 16,
     "metadata": {},
     "output_type": "execute_result"
    }
   ],
   "source": [
    "data2['data_ref']='Kaggle'\n",
    "data2.shape"
   ]
  },
  {
   "cell_type": "code",
   "execution_count": 17,
   "id": "052112fa",
   "metadata": {},
   "outputs": [],
   "source": [
    "# data3['data_ref']='Kaggle_Ricord'\n",
    "# data3.shape"
   ]
  },
  {
   "cell_type": "code",
   "execution_count": 18,
   "id": "40ed5bbf",
   "metadata": {},
   "outputs": [],
   "source": [
    "# data3.columns"
   ]
  },
  {
   "cell_type": "code",
   "execution_count": 19,
   "id": "0b7691f9",
   "metadata": {
    "scrolled": true
   },
   "outputs": [
    {
     "data": {
      "text/plain": [
       "Index(['patientid', 'offset', 'sex', 'age', 'finding', 'RT_PCR_positive',\n",
       "       'survival', 'intubated', 'intubation_present', 'went_icu', 'in_icu',\n",
       "       'needed_supplemental_O2', 'extubated', 'temperature', 'pO2_saturation',\n",
       "       'leukocyte_count', 'neutrophil_count', 'lymphocyte_count', 'view',\n",
       "       'modality', 'date', 'location', 'folder', 'filename', 'doi', 'url',\n",
       "       'license', 'clinical_notes', 'other_notes', 'Unnamed: 29', 'data_ref'],\n",
       "      dtype='object')"
      ]
     },
     "execution_count": 19,
     "metadata": {},
     "output_type": "execute_result"
    }
   ],
   "source": [
    "data1.columns\n"
   ]
  },
  {
   "cell_type": "code",
   "execution_count": 20,
   "id": "a0ff427d",
   "metadata": {},
   "outputs": [
    {
     "data": {
      "text/plain": [
       "X-ray    866\n",
       "CT        84\n",
       "Name: modality, dtype: int64"
      ]
     },
     "execution_count": 20,
     "metadata": {},
     "output_type": "execute_result"
    }
   ],
   "source": [
    "data1['modality'].value_counts()"
   ]
  },
  {
   "cell_type": "code",
   "execution_count": 21,
   "id": "7c4c0779",
   "metadata": {},
   "outputs": [
    {
     "name": "stdout",
     "output_type": "stream",
     "text": [
      "866\n"
     ]
    },
    {
     "data": {
      "text/plain": [
       "(866, 31)"
      ]
     },
     "execution_count": 21,
     "metadata": {},
     "output_type": "execute_result"
    }
   ],
   "source": [
    "# Since we are working with just X-rays, we will remove CT images\n",
    "print(len(data1[data1['modality']!='CT']))\n",
    "data4=data1[data1['modality']!='CT']\n",
    "data4.shape"
   ]
  },
  {
   "cell_type": "code",
   "execution_count": 22,
   "id": "708abf76",
   "metadata": {},
   "outputs": [
    {
     "data": {
      "text/plain": [
       "PA           344\n",
       "AP Supine    234\n",
       "AP           203\n",
       "L             84\n",
       "AP Erect       1\n",
       "Name: view, dtype: int64"
      ]
     },
     "execution_count": 22,
     "metadata": {},
     "output_type": "execute_result"
    }
   ],
   "source": [
    "data4['view'].value_counts()"
   ]
  },
  {
   "cell_type": "code",
   "execution_count": 23,
   "id": "2b0d9da3",
   "metadata": {},
   "outputs": [
    {
     "data": {
      "text/plain": [
       "CT       93802\n",
       "X-ray      819\n",
       "Name: modality, dtype: int64"
      ]
     },
     "execution_count": 23,
     "metadata": {},
     "output_type": "execute_result"
    }
   ],
   "source": [
    "data2['modality'].value_counts()"
   ]
  },
  {
   "cell_type": "code",
   "execution_count": 24,
   "id": "e05897ce",
   "metadata": {},
   "outputs": [
    {
     "name": "stdout",
     "output_type": "stream",
     "text": [
      "819\n"
     ]
    },
    {
     "data": {
      "text/plain": [
       "(819, 7)"
      ]
     },
     "execution_count": 24,
     "metadata": {},
     "output_type": "execute_result"
    }
   ],
   "source": [
    "# Since we are working with just X-rays, we will remove CT images\n",
    "print(len(data2[data2['modality']!='CT']))\n",
    "data5=data2[data2['modality']!='CT']\n",
    "data5.shape"
   ]
  },
  {
   "cell_type": "code",
   "execution_count": 25,
   "id": "77245af1",
   "metadata": {},
   "outputs": [
    {
     "data": {
      "text/plain": [
       "Index(['patientid', 'sex', 'age', 'finding', 'modality', 'filename',\n",
       "       'data_ref'],\n",
       "      dtype='object')"
      ]
     },
     "execution_count": 25,
     "metadata": {},
     "output_type": "execute_result"
    }
   ],
   "source": [
    "data5.columns"
   ]
  },
  {
   "cell_type": "code",
   "execution_count": 26,
   "id": "bb916eca",
   "metadata": {},
   "outputs": [
    {
     "data": {
      "text/plain": [
       "NON-COVID    532\n",
       "COVID-19     287\n",
       "Name: finding, dtype: int64"
      ]
     },
     "execution_count": 26,
     "metadata": {},
     "output_type": "execute_result"
    }
   ],
   "source": [
    "data5['finding'].value_counts()"
   ]
  },
  {
   "cell_type": "code",
   "execution_count": 27,
   "id": "949d8776",
   "metadata": {},
   "outputs": [
    {
     "name": "stderr",
     "output_type": "stream",
     "text": [
      "/Users/arth/opt/anaconda3/lib/python3.8/site-packages/pandas/core/frame.py:4441: SettingWithCopyWarning: \n",
      "A value is trying to be set on a copy of a slice from a DataFrame\n",
      "\n",
      "See the caveats in the documentation: https://pandas.pydata.org/pandas-docs/stable/user_guide/indexing.html#returning-a-view-versus-a-copy\n",
      "  return super().rename(\n"
     ]
    },
    {
     "data": {
      "text/plain": [
       "Index(['patientid', 'offset', 'sex', 'age', 'finding', 'Covid-Detection',\n",
       "       'survival', 'intubated', 'intubation_present', 'went_icu', 'in_icu',\n",
       "       'needed_supplemental_O2', 'extubated', 'temperature', 'pO2_saturation',\n",
       "       'leukocyte_count', 'neutrophil_count', 'lymphocyte_count', 'view',\n",
       "       'modality', 'date', 'location', 'folder', 'filename', 'doi', 'url',\n",
       "       'license', 'clinical_notes', 'other_notes', 'Unnamed: 29', 'data_ref'],\n",
       "      dtype='object')"
      ]
     },
     "execution_count": 27,
     "metadata": {},
     "output_type": "execute_result"
    }
   ],
   "source": [
    "data4.rename({'RT_PCR_positive':'Covid-Detection'},axis=1,inplace=True)\n",
    "data4.columns"
   ]
  },
  {
   "cell_type": "code",
   "execution_count": 28,
   "id": "8db547de",
   "metadata": {},
   "outputs": [
    {
     "data": {
      "text/plain": [
       "Index(['patientid', 'sex', 'age', 'Covid-Detection', 'modality', 'filename',\n",
       "       'data_ref'],\n",
       "      dtype='object')"
      ]
     },
     "execution_count": 28,
     "metadata": {},
     "output_type": "execute_result"
    }
   ],
   "source": [
    "data5.rename({'finding':'Covid-Detection'},axis=1,inplace=True)\n",
    "data5.columns"
   ]
  },
  {
   "cell_type": "code",
   "execution_count": 29,
   "id": "7ad0047e",
   "metadata": {},
   "outputs": [],
   "source": [
    "data6= pd.concat([data4, data5], axis=0)"
   ]
  },
  {
   "cell_type": "code",
   "execution_count": 30,
   "id": "08200898",
   "metadata": {},
   "outputs": [
    {
     "data": {
      "text/plain": [
       "Index(['patientid', 'offset', 'sex', 'age', 'finding', 'Covid-Detection',\n",
       "       'survival', 'intubated', 'intubation_present', 'went_icu', 'in_icu',\n",
       "       'needed_supplemental_O2', 'extubated', 'temperature', 'pO2_saturation',\n",
       "       'leukocyte_count', 'neutrophil_count', 'lymphocyte_count', 'view',\n",
       "       'modality', 'date', 'location', 'folder', 'filename', 'doi', 'url',\n",
       "       'license', 'clinical_notes', 'other_notes', 'Unnamed: 29', 'data_ref'],\n",
       "      dtype='object')"
      ]
     },
     "execution_count": 30,
     "metadata": {},
     "output_type": "execute_result"
    }
   ],
   "source": [
    "data6.columns"
   ]
  },
  {
   "cell_type": "code",
   "execution_count": 31,
   "id": "78a8a7b4",
   "metadata": {},
   "outputs": [
    {
     "data": {
      "text/html": [
       "<div>\n",
       "<style scoped>\n",
       "    .dataframe tbody tr th:only-of-type {\n",
       "        vertical-align: middle;\n",
       "    }\n",
       "\n",
       "    .dataframe tbody tr th {\n",
       "        vertical-align: top;\n",
       "    }\n",
       "\n",
       "    .dataframe thead th {\n",
       "        text-align: right;\n",
       "    }\n",
       "</style>\n",
       "<table border=\"1\" class=\"dataframe\">\n",
       "  <thead>\n",
       "    <tr style=\"text-align: right;\">\n",
       "      <th></th>\n",
       "      <th>patientid</th>\n",
       "      <th>offset</th>\n",
       "      <th>sex</th>\n",
       "      <th>age</th>\n",
       "      <th>finding</th>\n",
       "      <th>Covid-Detection</th>\n",
       "      <th>survival</th>\n",
       "      <th>intubated</th>\n",
       "      <th>intubation_present</th>\n",
       "      <th>went_icu</th>\n",
       "      <th>...</th>\n",
       "      <th>location</th>\n",
       "      <th>folder</th>\n",
       "      <th>filename</th>\n",
       "      <th>doi</th>\n",
       "      <th>url</th>\n",
       "      <th>license</th>\n",
       "      <th>clinical_notes</th>\n",
       "      <th>other_notes</th>\n",
       "      <th>Unnamed: 29</th>\n",
       "      <th>data_ref</th>\n",
       "    </tr>\n",
       "  </thead>\n",
       "  <tbody>\n",
       "    <tr>\n",
       "      <th>0</th>\n",
       "      <td>2</td>\n",
       "      <td>0.0</td>\n",
       "      <td>M</td>\n",
       "      <td>65.0</td>\n",
       "      <td>Pneumonia/Viral/COVID-19</td>\n",
       "      <td>Y</td>\n",
       "      <td>Y</td>\n",
       "      <td>N</td>\n",
       "      <td>N</td>\n",
       "      <td>N</td>\n",
       "      <td>...</td>\n",
       "      <td>Cho Ray Hospital, Ho Chi Minh City, Vietnam</td>\n",
       "      <td>images</td>\n",
       "      <td>auntminnie-a-2020_01_28_23_51_6665_2020_01_28_...</td>\n",
       "      <td>10.1056/nejmc2001272</td>\n",
       "      <td>https://www.nejm.org/doi/full/10.1056/NEJMc200...</td>\n",
       "      <td>NaN</td>\n",
       "      <td>On January 22, 2020, a 65-year-old man with a ...</td>\n",
       "      <td>NaN</td>\n",
       "      <td>NaN</td>\n",
       "      <td>IEEE</td>\n",
       "    </tr>\n",
       "    <tr>\n",
       "      <th>1</th>\n",
       "      <td>2</td>\n",
       "      <td>3.0</td>\n",
       "      <td>M</td>\n",
       "      <td>65.0</td>\n",
       "      <td>Pneumonia/Viral/COVID-19</td>\n",
       "      <td>Y</td>\n",
       "      <td>Y</td>\n",
       "      <td>N</td>\n",
       "      <td>N</td>\n",
       "      <td>N</td>\n",
       "      <td>...</td>\n",
       "      <td>Cho Ray Hospital, Ho Chi Minh City, Vietnam</td>\n",
       "      <td>images</td>\n",
       "      <td>auntminnie-b-2020_01_28_23_51_6665_2020_01_28_...</td>\n",
       "      <td>10.1056/nejmc2001272</td>\n",
       "      <td>https://www.nejm.org/doi/full/10.1056/NEJMc200...</td>\n",
       "      <td>NaN</td>\n",
       "      <td>On January 22, 2020, a 65-year-old man with a ...</td>\n",
       "      <td>NaN</td>\n",
       "      <td>NaN</td>\n",
       "      <td>IEEE</td>\n",
       "    </tr>\n",
       "    <tr>\n",
       "      <th>2</th>\n",
       "      <td>2</td>\n",
       "      <td>5.0</td>\n",
       "      <td>M</td>\n",
       "      <td>65.0</td>\n",
       "      <td>Pneumonia/Viral/COVID-19</td>\n",
       "      <td>Y</td>\n",
       "      <td>Y</td>\n",
       "      <td>N</td>\n",
       "      <td>N</td>\n",
       "      <td>N</td>\n",
       "      <td>...</td>\n",
       "      <td>Cho Ray Hospital, Ho Chi Minh City, Vietnam</td>\n",
       "      <td>images</td>\n",
       "      <td>auntminnie-c-2020_01_28_23_51_6665_2020_01_28_...</td>\n",
       "      <td>10.1056/nejmc2001272</td>\n",
       "      <td>https://www.nejm.org/doi/full/10.1056/NEJMc200...</td>\n",
       "      <td>NaN</td>\n",
       "      <td>On January 22, 2020, a 65-year-old man with a ...</td>\n",
       "      <td>NaN</td>\n",
       "      <td>NaN</td>\n",
       "      <td>IEEE</td>\n",
       "    </tr>\n",
       "    <tr>\n",
       "      <th>3</th>\n",
       "      <td>2</td>\n",
       "      <td>6.0</td>\n",
       "      <td>M</td>\n",
       "      <td>65.0</td>\n",
       "      <td>Pneumonia/Viral/COVID-19</td>\n",
       "      <td>Y</td>\n",
       "      <td>Y</td>\n",
       "      <td>N</td>\n",
       "      <td>N</td>\n",
       "      <td>N</td>\n",
       "      <td>...</td>\n",
       "      <td>Cho Ray Hospital, Ho Chi Minh City, Vietnam</td>\n",
       "      <td>images</td>\n",
       "      <td>auntminnie-d-2020_01_28_23_51_6665_2020_01_28_...</td>\n",
       "      <td>10.1056/nejmc2001272</td>\n",
       "      <td>https://www.nejm.org/doi/full/10.1056/NEJMc200...</td>\n",
       "      <td>NaN</td>\n",
       "      <td>On January 22, 2020, a 65-year-old man with a ...</td>\n",
       "      <td>NaN</td>\n",
       "      <td>NaN</td>\n",
       "      <td>IEEE</td>\n",
       "    </tr>\n",
       "    <tr>\n",
       "      <th>4</th>\n",
       "      <td>4</td>\n",
       "      <td>0.0</td>\n",
       "      <td>F</td>\n",
       "      <td>52.0</td>\n",
       "      <td>Pneumonia/Viral/COVID-19</td>\n",
       "      <td>Y</td>\n",
       "      <td>NaN</td>\n",
       "      <td>N</td>\n",
       "      <td>N</td>\n",
       "      <td>N</td>\n",
       "      <td>...</td>\n",
       "      <td>Changhua Christian Hospital, Changhua City, Ta...</td>\n",
       "      <td>images</td>\n",
       "      <td>nejmc2001573_f1a.jpeg</td>\n",
       "      <td>10.1056/NEJMc2001573</td>\n",
       "      <td>https://www.nejm.org/doi/full/10.1056/NEJMc200...</td>\n",
       "      <td>NaN</td>\n",
       "      <td>diffuse infiltrates in the bilateral lower lungs</td>\n",
       "      <td>NaN</td>\n",
       "      <td>NaN</td>\n",
       "      <td>IEEE</td>\n",
       "    </tr>\n",
       "  </tbody>\n",
       "</table>\n",
       "<p>5 rows × 31 columns</p>\n",
       "</div>"
      ],
      "text/plain": [
       "  patientid  offset sex   age                   finding Covid-Detection  \\\n",
       "0         2     0.0   M  65.0  Pneumonia/Viral/COVID-19               Y   \n",
       "1         2     3.0   M  65.0  Pneumonia/Viral/COVID-19               Y   \n",
       "2         2     5.0   M  65.0  Pneumonia/Viral/COVID-19               Y   \n",
       "3         2     6.0   M  65.0  Pneumonia/Viral/COVID-19               Y   \n",
       "4         4     0.0   F  52.0  Pneumonia/Viral/COVID-19               Y   \n",
       "\n",
       "  survival intubated intubation_present went_icu  ...  \\\n",
       "0        Y         N                  N        N  ...   \n",
       "1        Y         N                  N        N  ...   \n",
       "2        Y         N                  N        N  ...   \n",
       "3        Y         N                  N        N  ...   \n",
       "4      NaN         N                  N        N  ...   \n",
       "\n",
       "                                            location  folder  \\\n",
       "0        Cho Ray Hospital, Ho Chi Minh City, Vietnam  images   \n",
       "1        Cho Ray Hospital, Ho Chi Minh City, Vietnam  images   \n",
       "2        Cho Ray Hospital, Ho Chi Minh City, Vietnam  images   \n",
       "3        Cho Ray Hospital, Ho Chi Minh City, Vietnam  images   \n",
       "4  Changhua Christian Hospital, Changhua City, Ta...  images   \n",
       "\n",
       "                                            filename                   doi  \\\n",
       "0  auntminnie-a-2020_01_28_23_51_6665_2020_01_28_...  10.1056/nejmc2001272   \n",
       "1  auntminnie-b-2020_01_28_23_51_6665_2020_01_28_...  10.1056/nejmc2001272   \n",
       "2  auntminnie-c-2020_01_28_23_51_6665_2020_01_28_...  10.1056/nejmc2001272   \n",
       "3  auntminnie-d-2020_01_28_23_51_6665_2020_01_28_...  10.1056/nejmc2001272   \n",
       "4                              nejmc2001573_f1a.jpeg  10.1056/NEJMc2001573   \n",
       "\n",
       "                                                 url  license  \\\n",
       "0  https://www.nejm.org/doi/full/10.1056/NEJMc200...      NaN   \n",
       "1  https://www.nejm.org/doi/full/10.1056/NEJMc200...      NaN   \n",
       "2  https://www.nejm.org/doi/full/10.1056/NEJMc200...      NaN   \n",
       "3  https://www.nejm.org/doi/full/10.1056/NEJMc200...      NaN   \n",
       "4  https://www.nejm.org/doi/full/10.1056/NEJMc200...      NaN   \n",
       "\n",
       "                                      clinical_notes  other_notes Unnamed: 29  \\\n",
       "0  On January 22, 2020, a 65-year-old man with a ...          NaN         NaN   \n",
       "1  On January 22, 2020, a 65-year-old man with a ...          NaN         NaN   \n",
       "2  On January 22, 2020, a 65-year-old man with a ...          NaN         NaN   \n",
       "3  On January 22, 2020, a 65-year-old man with a ...          NaN         NaN   \n",
       "4   diffuse infiltrates in the bilateral lower lungs          NaN         NaN   \n",
       "\n",
       "  data_ref  \n",
       "0     IEEE  \n",
       "1     IEEE  \n",
       "2     IEEE  \n",
       "3     IEEE  \n",
       "4     IEEE  \n",
       "\n",
       "[5 rows x 31 columns]"
      ]
     },
     "execution_count": 31,
     "metadata": {},
     "output_type": "execute_result"
    }
   ],
   "source": [
    "data6.head()"
   ]
  },
  {
   "cell_type": "code",
   "execution_count": 32,
   "id": "de92e0d3",
   "metadata": {},
   "outputs": [
    {
     "data": {
      "text/plain": [
       "NON-COVID    532\n",
       "Y            315\n",
       "COVID-19     287\n",
       "Unclear      194\n",
       "Name: Covid-Detection, dtype: int64"
      ]
     },
     "execution_count": 32,
     "metadata": {},
     "output_type": "execute_result"
    }
   ],
   "source": [
    "data6['Covid-Detection'].value_counts()"
   ]
  },
  {
   "cell_type": "code",
   "execution_count": 33,
   "id": "50577181",
   "metadata": {},
   "outputs": [
    {
     "data": {
      "text/plain": [
       "PA           344\n",
       "AP Supine    234\n",
       "AP           203\n",
       "L             84\n",
       "AP Erect       1\n",
       "Name: view, dtype: int64"
      ]
     },
     "execution_count": 33,
     "metadata": {},
     "output_type": "execute_result"
    }
   ],
   "source": [
    "data6['view'].value_counts()"
   ]
  },
  {
   "cell_type": "code",
   "execution_count": 34,
   "id": "c3dcde34",
   "metadata": {},
   "outputs": [
    {
     "data": {
      "text/plain": [
       "Index(['patientid', 'sex', 'age', 'Covid-Detection', 'modality', 'filename',\n",
       "       'data_ref'],\n",
       "      dtype='object')"
      ]
     },
     "execution_count": 34,
     "metadata": {},
     "output_type": "execute_result"
    }
   ],
   "source": [
    "data5.columns"
   ]
  },
  {
   "cell_type": "code",
   "execution_count": 35,
   "id": "8c8e17d9",
   "metadata": {},
   "outputs": [
    {
     "name": "stderr",
     "output_type": "stream",
     "text": [
      "/Users/arth/opt/anaconda3/lib/python3.8/site-packages/pandas/core/frame.py:4441: SettingWithCopyWarning: \n",
      "A value is trying to be set on a copy of a slice from a DataFrame\n",
      "\n",
      "See the caveats in the documentation: https://pandas.pydata.org/pandas-docs/stable/user_guide/indexing.html#returning-a-view-versus-a-copy\n",
      "  return super().rename(\n"
     ]
    },
    {
     "data": {
      "text/plain": [
       "Index(['patientid', 'sex', 'age', 'Covid-Detection', 'modality', 'filename',\n",
       "       'data_ref'],\n",
       "      dtype='object')"
      ]
     },
     "execution_count": 35,
     "metadata": {},
     "output_type": "execute_result"
    }
   ],
   "source": [
    "data5.rename({'Age':'age','Gender':'sex'},axis=1,inplace=True)\n",
    "data5.columns"
   ]
  },
  {
   "cell_type": "code",
   "execution_count": 36,
   "id": "9cd76789",
   "metadata": {},
   "outputs": [],
   "source": [
    "# data7= pd.concat([data6, data3], axis=0)"
   ]
  },
  {
   "cell_type": "code",
   "execution_count": 37,
   "id": "b4839769",
   "metadata": {},
   "outputs": [],
   "source": [
    "# data7.shape"
   ]
  },
  {
   "cell_type": "code",
   "execution_count": 38,
   "id": "04cd37c8",
   "metadata": {},
   "outputs": [],
   "source": [
    "# data7.columns"
   ]
  },
  {
   "cell_type": "code",
   "execution_count": 39,
   "id": "e81e8278",
   "metadata": {},
   "outputs": [],
   "source": [
    "# # 63 are Null values\n",
    "# data7['sex'].value_counts()"
   ]
  },
  {
   "cell_type": "code",
   "execution_count": 40,
   "id": "14074dff",
   "metadata": {},
   "outputs": [],
   "source": [
    "# # Out of 2504 rows, onl 1082 have values (NO NULL OR UNKNOWN)\n",
    "# print(data7['age'].isna().sum())\n",
    "# print(len(data7[data7['age']=='Unknown']))"
   ]
  },
  {
   "cell_type": "code",
   "execution_count": 41,
   "id": "9b8d32a0",
   "metadata": {},
   "outputs": [],
   "source": [
    "# data7['Covid-Detection'].value_counts()"
   ]
  },
  {
   "cell_type": "code",
   "execution_count": 42,
   "id": "c981ccbf",
   "metadata": {},
   "outputs": [],
   "source": [
    "# data7['view'].value_counts()"
   ]
  },
  {
   "cell_type": "code",
   "execution_count": 43,
   "id": "cce02555",
   "metadata": {},
   "outputs": [],
   "source": [
    "data6.to_csv('capstone_covid_data.csv')"
   ]
  },
  {
   "cell_type": "code",
   "execution_count": null,
   "id": "b5b5bfc7",
   "metadata": {},
   "outputs": [],
   "source": []
  }
 ],
 "metadata": {
  "kernelspec": {
   "display_name": "Python 3",
   "language": "python",
   "name": "python3"
  },
  "language_info": {
   "codemirror_mode": {
    "name": "ipython",
    "version": 3
   },
   "file_extension": ".py",
   "mimetype": "text/x-python",
   "name": "python",
   "nbconvert_exporter": "python",
   "pygments_lexer": "ipython3",
   "version": "3.8.8"
  }
 },
 "nbformat": 4,
 "nbformat_minor": 5
}
